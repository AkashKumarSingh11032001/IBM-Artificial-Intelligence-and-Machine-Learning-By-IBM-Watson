{
 "cells": [
  {
   "cell_type": "markdown",
   "id": "7399340e",
   "metadata": {},
   "source": [
    "# Basic Python Revision"
   ]
  },
  {
   "cell_type": "markdown",
   "id": "c8a79725",
   "metadata": {},
   "source": [
    "### Assigment question's"
   ]
  },
  {
   "cell_type": "code",
   "execution_count": 1,
   "id": "0a2f789c",
   "metadata": {},
   "outputs": [
    {
     "data": {
      "text/plain": [
       "\"\\n\\nQues 1: Answer these 3 questions without typing code. Then type code to check your answer.\\nWhat is the value of the expression 4 * (6 + 5)\\nWhat is the value of the expression 4 * 6 + 5 \\nWhat is the value of the expression 4 + 6 * 5 \\n\\nQues 2: What is the type of the result of the expression 3 + 1.5 + 4?\\nQues 3: What would you use to find a number’s square root, as well as its square?\\nQues 4: Given the string 'hello' give an index command that returns 'e’.\\nQues 5: Reverse the string 'hello' using slicing\\nQues 6: Given the string hello, give two methods of producing the letter 'o' using indexing.\\n\\n\""
      ]
     },
     "execution_count": 1,
     "metadata": {},
     "output_type": "execute_result"
    }
   ],
   "source": [
    "'''\n",
    "\n",
    "Ques 1: Answer these 3 questions without typing code. Then type code to check your answer.\n",
    "What is the value of the expression 4 * (6 + 5)\n",
    "What is the value of the expression 4 * 6 + 5 \n",
    "What is the value of the expression4 * 6 + 5\n",
    "\n",
    "Ques 2: What is the type of the result of the expression 3 + 1.5 + 4?\n",
    "Ques 3: What would you use to find a number’s square root, as well as its square?\n",
    "Ques 4: Given the string 'hello' give an index command that returns 'e’.\n",
    "Ques 5: Reverse the string 'hello' using slicing\n",
    "Ques 6: Given the string hello, give two methods of producing the letter 'o' using indexing.\n",
    "\n",
    "Ques 7: Check if a list contains an element\n",
    "\n",
    "Ques 8: priint the strings present in reverse order and items also inreversse manner\n",
    "\n",
    "Ques 9: print(\"the homogeneos list in descendiing order\n",
    "\n",
    "Ques 10: print( odd index number items present in list\n",
    "\n",
    "'''"
   ]
  },
  {
   "cell_type": "code",
   "execution_count": 4,
   "id": "8c70c6ef",
   "metadata": {},
   "outputs": [
    {
     "name": "stdout",
     "output_type": "stream",
     "text": [
      "44\n",
      "29\n",
      "34\n"
     ]
    }
   ],
   "source": [
    "# answer 1\n",
    "print(4*(6+5)) #44\n",
    "print(4 * 6 + 5) #29\n",
    "print(4 + 6 * 5) #34"
   ]
  },
  {
   "cell_type": "code",
   "execution_count": 5,
   "id": "b42b379d",
   "metadata": {},
   "outputs": [
    {
     "name": "stdout",
     "output_type": "stream",
     "text": [
      "8.5\n"
     ]
    }
   ],
   "source": [
    "# answer 2\n",
    "print(3 + 1.5 + 4) # float"
   ]
  },
  {
   "cell_type": "code",
   "execution_count": 6,
   "id": "b2d6536f",
   "metadata": {},
   "outputs": [
    {
     "name": "stdout",
     "output_type": "stream",
     "text": [
      "2.23606797749979\n"
     ]
    }
   ],
   "source": [
    "# answer 3\n",
    "print(5 ** 0.5) # sqrt with power"
   ]
  },
  {
   "cell_type": "code",
   "execution_count": 7,
   "id": "4c3ba6e2",
   "metadata": {},
   "outputs": [
    {
     "name": "stdout",
     "output_type": "stream",
     "text": [
      "e\n"
     ]
    }
   ],
   "source": [
    "# answer 4/5/6\n",
    "str = \"hello\"\n",
    "print(str[1])"
   ]
  },
  {
   "cell_type": "code",
   "execution_count": 8,
   "id": "9f1c9947",
   "metadata": {},
   "outputs": [
    {
     "name": "stdout",
     "output_type": "stream",
     "text": [
      "olleh\n"
     ]
    }
   ],
   "source": [
    "print(str[::-1])"
   ]
  },
  {
   "cell_type": "code",
   "execution_count": 10,
   "id": "736a59b1",
   "metadata": {},
   "outputs": [
    {
     "name": "stdout",
     "output_type": "stream",
     "text": [
      "o\n",
      "o\n"
     ]
    }
   ],
   "source": [
    "print(str[4])\n",
    "print(str[-1])"
   ]
  },
  {
   "cell_type": "code",
   "execution_count": null,
   "id": "eab688b3",
   "metadata": {},
   "outputs": [],
   "source": [
    "# create a lottery game\n",
    "\n",
    "guess_num = 5\n",
    "user_num = int(input(\"Guess any number: \"))\n",
    "\n",
    "if(user_num > guess_num):\n",
    "    print(\"lower down your guess\")\n",
    "elif(user_num < guess_num):\n",
    "    print(\"increases your guess value\")\n",
    "else:\n",
    "    print(\"You won Lottery!!!\")"
   ]
  },
  {
   "cell_type": "code",
   "execution_count": 2,
   "id": "b38db0e0",
   "metadata": {},
   "outputs": [
    {
     "name": "stdout",
     "output_type": "stream",
     "text": [
      "a k a s h m a n g o a p p l e "
     ]
    }
   ],
   "source": [
    "# nested loop\n",
    "# Q: you have to fetch all the item from list and then acess all charcter of item of list.\n",
    "a = [\"akash\",\"mango\",\"apple\"]\n",
    "for i in a:\n",
    "    for j in i:\n",
    "        print(j, end=\" \")"
   ]
  },
  {
   "cell_type": "code",
   "execution_count": 4,
   "id": "5b7021fc",
   "metadata": {},
   "outputs": [
    {
     "name": "stdout",
     "output_type": "stream",
     "text": [
      "Enter num: 80\n",
      "Even\n"
     ]
    }
   ],
   "source": [
    "# print even or odd\n",
    "num = int(input(\"Enter num: \"))\n",
    "if num % 2 == 0:print(\"Even\")\n",
    "else:print(\"Odd\")"
   ]
  },
  {
   "cell_type": "code",
   "execution_count": 6,
   "id": "eb9cb46b",
   "metadata": {},
   "outputs": [
    {
     "name": "stdout",
     "output_type": "stream",
     "text": [
      "Enter character : a\n",
      "Its vowel\n"
     ]
    }
   ],
   "source": [
    "# vowel or not\n",
    "a = ['a','e','i','o','u']\n",
    "\n",
    "char = input(\"Enter character : \")\n",
    "if char in a:\n",
    "    print(\"Its vowel\")\n",
    "else:\n",
    "    print(\"not a vowel \")\n",
    "    "
   ]
  },
  {
   "cell_type": "code",
   "execution_count": 3,
   "id": "e00d68d8",
   "metadata": {},
   "outputs": [
    {
     "name": "stdout",
     "output_type": "stream",
     "text": [
      "guess the number15\n",
      "correct\n"
     ]
    }
   ],
   "source": [
    "a=15\n",
    "b = int(input(\"guess the number\"))\n",
    "while b!=a:\n",
    "    print('wrong! try again')\n",
    "    b=int(input())\n",
    "print('correct')"
   ]
  },
  {
   "cell_type": "markdown",
   "id": "dbcc3a3a",
   "metadata": {},
   "source": [
    "### lecture 2 Assignment\n"
   ]
  },
  {
   "cell_type": "code",
   "execution_count": 4,
   "id": "4a8a42aa",
   "metadata": {
    "scrolled": true
   },
   "outputs": [
    {
     "data": {
      "text/plain": [
       "'\\nQ1: Write a Python function to sum all the numbers in a list\\nQ2: Write a Python function that takes a list and returns a new list with unique elements of the first list\\nQ3: Write a Python program to print the even numbers from a given list\\nQ4: Write a function func1() such that it can accept a variable length of  argument and print all arguments value\\nQ5: Write a function calculation() such that it can accept two variables and calculate the addition and subtraction of them. And also it must return both addition and subtraction in a single return call\\nQ6: Create a function showEmployee() in such a way that it should accept employee name, and its salary and display both. If the salary is missing in the function call assign default value 9000 to salary\\n\\n\\n'"
      ]
     },
     "execution_count": 4,
     "metadata": {},
     "output_type": "execute_result"
    }
   ],
   "source": [
    "'''\n",
    "Q1: Write a Python function to sum all the numbers in a list\n",
    "Q2: Write a Python function that takes a list and returns a new list with unique elements of the first list\n",
    "Q3: Write a Python program to print the even numbers from a given list\n",
    "Q4: Write a function func1() such that it can accept a variable length of  argument and print all arguments value\n",
    "Q5: Write a function calculation() such that it can accept two variables and calculate the addition and subtraction of them. And also it must return both addition and subtraction in a single return call\n",
    "Q6: Create a function showEmployee() in such a way that it should accept employee name, and its salary and display both. If the salary is missing in the function call assign default value 9000 to salary\n",
    "\n",
    "\n",
    "'''"
   ]
  },
  {
   "cell_type": "code",
   "execution_count": 7,
   "id": "d701d985",
   "metadata": {},
   "outputs": [
    {
     "name": "stdout",
     "output_type": "stream",
     "text": [
      "55\n"
     ]
    }
   ],
   "source": [
    "# sol 1\n",
    "num_lis = [1,2,3,4,5,6,7,8,9,10]\n",
    "print(sum(num_lis))"
   ]
  },
  {
   "cell_type": "code",
   "execution_count": 9,
   "id": "17158044",
   "metadata": {},
   "outputs": [
    {
     "name": "stdout",
     "output_type": "stream",
     "text": [
      "[1, 2, 3, 4, 5]\n"
     ]
    }
   ],
   "source": [
    "# sol 2\n",
    "def uniquelis(lis):\n",
    "    uni_lis = []\n",
    "    for i in lis:\n",
    "        if i not in uni_lis:\n",
    "            uni_lis.append(i)\n",
    "    return uni_lis\n",
    "\n",
    "x = [1,1,2,2,3,3,4,4,5,5]\n",
    "print(uniquelis(x))"
   ]
  },
  {
   "cell_type": "code",
   "execution_count": 11,
   "id": "48c1e46c",
   "metadata": {},
   "outputs": [
    {
     "name": "stdout",
     "output_type": "stream",
     "text": [
      "[2, 4, 6, 8, 10]\n"
     ]
    }
   ],
   "source": [
    "# sol 3\n",
    "def evenNum(lis):\n",
    "    even_lis = []\n",
    "    for i in lis:\n",
    "        if i%2 == 0:\n",
    "            even_lis.append(i)\n",
    "    return even_lis\n",
    "\n",
    "x = [1,2,3,4,5,6,7,8,9,10]\n",
    "print(evenNum(x))"
   ]
  },
  {
   "cell_type": "code",
   "execution_count": 14,
   "id": "8c2d7c05",
   "metadata": {},
   "outputs": [
    {
     "name": "stdout",
     "output_type": "stream",
     "text": [
      "1\n",
      "2\n",
      "3\n",
      "4\n",
      "8\n",
      "2\n",
      "6\n",
      "9\n",
      "2\n",
      "63\n",
      "5\n",
      "5\n",
      "2\n",
      "2\n"
     ]
    }
   ],
   "source": [
    "# sol 4\n",
    "def fact1(*arg):\n",
    "    for i in arg:\n",
    "        print(i)\n",
    "        \n",
    "fact1(1,2,3,4,8,2,6,9,2,63,5,5,2,2)"
   ]
  },
  {
   "cell_type": "code",
   "execution_count": 17,
   "id": "1b320ba2",
   "metadata": {},
   "outputs": [
    {
     "name": "stdout",
     "output_type": "stream",
     "text": [
      "15 -5\n"
     ]
    }
   ],
   "source": [
    "def cal(a,b):\n",
    "    return a+b,a-b\n",
    "\n",
    "x,y = cal(5,10)\n",
    "print(x,y)"
   ]
  },
  {
   "cell_type": "code",
   "execution_count": 19,
   "id": "47f1823e",
   "metadata": {},
   "outputs": [
    {
     "name": "stdout",
     "output_type": "stream",
     "text": [
      "Akash earning is 10000\n"
     ]
    }
   ],
   "source": [
    "def showEmployee(name,salary = 9999):\n",
    "    print(f\"{name} earning is {salary}\")\n",
    "    \n",
    "showEmployee(\"Akash\",10000)"
   ]
  }
 ],
 "metadata": {
  "kernelspec": {
   "display_name": "Python 3",
   "language": "python",
   "name": "python3"
  },
  "language_info": {
   "codemirror_mode": {
    "name": "ipython",
    "version": 3
   },
   "file_extension": ".py",
   "mimetype": "text/x-python",
   "name": "python",
   "nbconvert_exporter": "python",
   "pygments_lexer": "ipython3",
   "version": "3.8.10"
  }
 },
 "nbformat": 4,
 "nbformat_minor": 5
}
