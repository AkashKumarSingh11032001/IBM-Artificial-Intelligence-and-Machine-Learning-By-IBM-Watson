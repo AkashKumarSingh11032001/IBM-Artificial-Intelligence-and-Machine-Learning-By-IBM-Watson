{
 "cells": [
  {
   "cell_type": "markdown",
   "id": "bc670e0f",
   "metadata": {},
   "source": [
    "# SparkFund"
   ]
  },
  {
   "cell_type": "code",
   "execution_count": 2,
   "id": "dd4abbb6",
   "metadata": {},
   "outputs": [],
   "source": [
    "import pandas as pd\n",
    "import numpy as np\n",
    "import matplotlib.pyplot as plt\n",
    "import csv"
   ]
  },
  {
   "cell_type": "code",
   "execution_count": 18,
   "id": "08a1a83d",
   "metadata": {},
   "outputs": [
    {
     "data": {
      "text/html": [
       "<div>\n",
       "<style scoped>\n",
       "    .dataframe tbody tr th:only-of-type {\n",
       "        vertical-align: middle;\n",
       "    }\n",
       "\n",
       "    .dataframe tbody tr th {\n",
       "        vertical-align: top;\n",
       "    }\n",
       "\n",
       "    .dataframe thead th {\n",
       "        text-align: right;\n",
       "    }\n",
       "</style>\n",
       "<table border=\"1\" class=\"dataframe\">\n",
       "  <thead>\n",
       "    <tr style=\"text-align: right;\">\n",
       "      <th></th>\n",
       "      <th>company_permalink</th>\n",
       "      <th>funding_round_permalink</th>\n",
       "      <th>funding_round_type</th>\n",
       "      <th>funding_round_code</th>\n",
       "      <th>funded_at</th>\n",
       "      <th>raised_amount_usd</th>\n",
       "    </tr>\n",
       "  </thead>\n",
       "  <tbody>\n",
       "    <tr>\n",
       "      <th>0</th>\n",
       "      <td>/organization/-fame</td>\n",
       "      <td>/funding-round/9a01d05418af9f794eebff7ace91f638</td>\n",
       "      <td>venture</td>\n",
       "      <td>B</td>\n",
       "      <td>05-01-2015</td>\n",
       "      <td>10000000.0</td>\n",
       "    </tr>\n",
       "    <tr>\n",
       "      <th>1</th>\n",
       "      <td>/ORGANIZATION/-QOUNTER</td>\n",
       "      <td>/funding-round/22dacff496eb7acb2b901dec1dfe5633</td>\n",
       "      <td>venture</td>\n",
       "      <td>A</td>\n",
       "      <td>14-10-2014</td>\n",
       "      <td>NaN</td>\n",
       "    </tr>\n",
       "    <tr>\n",
       "      <th>2</th>\n",
       "      <td>/organization/-qounter</td>\n",
       "      <td>/funding-round/b44fbb94153f6cdef13083530bb48030</td>\n",
       "      <td>seed</td>\n",
       "      <td>NaN</td>\n",
       "      <td>01-03-2014</td>\n",
       "      <td>700000.0</td>\n",
       "    </tr>\n",
       "    <tr>\n",
       "      <th>3</th>\n",
       "      <td>/ORGANIZATION/-THE-ONE-OF-THEM-INC-</td>\n",
       "      <td>/funding-round/650b8f704416801069bb178a1418776b</td>\n",
       "      <td>venture</td>\n",
       "      <td>B</td>\n",
       "      <td>30-01-2014</td>\n",
       "      <td>3406878.0</td>\n",
       "    </tr>\n",
       "    <tr>\n",
       "      <th>4</th>\n",
       "      <td>/organization/0-6-com</td>\n",
       "      <td>/funding-round/5727accaeaa57461bd22a9bdd945382d</td>\n",
       "      <td>venture</td>\n",
       "      <td>A</td>\n",
       "      <td>19-03-2008</td>\n",
       "      <td>2000000.0</td>\n",
       "    </tr>\n",
       "  </tbody>\n",
       "</table>\n",
       "</div>"
      ],
      "text/plain": [
       "                     company_permalink  \\\n",
       "0                  /organization/-fame   \n",
       "1               /ORGANIZATION/-QOUNTER   \n",
       "2               /organization/-qounter   \n",
       "3  /ORGANIZATION/-THE-ONE-OF-THEM-INC-   \n",
       "4                /organization/0-6-com   \n",
       "\n",
       "                           funding_round_permalink funding_round_type  \\\n",
       "0  /funding-round/9a01d05418af9f794eebff7ace91f638            venture   \n",
       "1  /funding-round/22dacff496eb7acb2b901dec1dfe5633            venture   \n",
       "2  /funding-round/b44fbb94153f6cdef13083530bb48030               seed   \n",
       "3  /funding-round/650b8f704416801069bb178a1418776b            venture   \n",
       "4  /funding-round/5727accaeaa57461bd22a9bdd945382d            venture   \n",
       "\n",
       "  funding_round_code   funded_at  raised_amount_usd  \n",
       "0                  B  05-01-2015         10000000.0  \n",
       "1                  A  14-10-2014                NaN  \n",
       "2                NaN  01-03-2014           700000.0  \n",
       "3                  B  30-01-2014          3406878.0  \n",
       "4                  A  19-03-2008          2000000.0  "
      ]
     },
     "execution_count": 18,
     "metadata": {},
     "output_type": "execute_result"
    }
   ],
   "source": [
    "rounds = pd.read_csv(\"Dataset/rounds2.csv\",encoding='iso-8859-1 ')\n",
    "companies = pd.read_csv(\"Dataset/companies.csv\",encoding='iso-8859-1')\n",
    "companies.head()\n",
    "rounds.head()"
   ]
  },
  {
   "cell_type": "code",
   "execution_count": 20,
   "id": "81994907",
   "metadata": {},
   "outputs": [
    {
     "data": {
      "text/html": [
       "<div>\n",
       "<style scoped>\n",
       "    .dataframe tbody tr th:only-of-type {\n",
       "        vertical-align: middle;\n",
       "    }\n",
       "\n",
       "    .dataframe tbody tr th {\n",
       "        vertical-align: top;\n",
       "    }\n",
       "\n",
       "    .dataframe thead th {\n",
       "        text-align: right;\n",
       "    }\n",
       "</style>\n",
       "<table border=\"1\" class=\"dataframe\">\n",
       "  <thead>\n",
       "    <tr style=\"text-align: right;\">\n",
       "      <th></th>\n",
       "      <th>company_permalink</th>\n",
       "      <th>name</th>\n",
       "      <th>homepage_url</th>\n",
       "      <th>category_list</th>\n",
       "      <th>status</th>\n",
       "      <th>country_code</th>\n",
       "      <th>state_code</th>\n",
       "      <th>region</th>\n",
       "      <th>city</th>\n",
       "      <th>founded_at</th>\n",
       "    </tr>\n",
       "  </thead>\n",
       "  <tbody>\n",
       "    <tr>\n",
       "      <th>count</th>\n",
       "      <td>18334</td>\n",
       "      <td>18334</td>\n",
       "      <td>16941</td>\n",
       "      <td>17488</td>\n",
       "      <td>18333</td>\n",
       "      <td>16531</td>\n",
       "      <td>16085</td>\n",
       "      <td>16240</td>\n",
       "      <td>16240</td>\n",
       "      <td>14112</td>\n",
       "    </tr>\n",
       "    <tr>\n",
       "      <th>unique</th>\n",
       "      <td>18334</td>\n",
       "      <td>18272</td>\n",
       "      <td>16916</td>\n",
       "      <td>8208</td>\n",
       "      <td>4</td>\n",
       "      <td>107</td>\n",
       "      <td>251</td>\n",
       "      <td>779</td>\n",
       "      <td>2586</td>\n",
       "      <td>2171</td>\n",
       "    </tr>\n",
       "    <tr>\n",
       "      <th>top</th>\n",
       "      <td>/Organization/Artoo</td>\n",
       "      <td>Blink</td>\n",
       "      <td>http://www.askforoffer.com</td>\n",
       "      <td>Biotechnology</td>\n",
       "      <td>operating</td>\n",
       "      <td>USA</td>\n",
       "      <td>CA</td>\n",
       "      <td>SF Bay Area</td>\n",
       "      <td>San Francisco</td>\n",
       "      <td>01-01-2012</td>\n",
       "    </tr>\n",
       "    <tr>\n",
       "      <th>freq</th>\n",
       "      <td>1</td>\n",
       "      <td>4</td>\n",
       "      <td>3</td>\n",
       "      <td>1235</td>\n",
       "      <td>14592</td>\n",
       "      <td>10671</td>\n",
       "      <td>3606</td>\n",
       "      <td>2428</td>\n",
       "      <td>911</td>\n",
       "      <td>731</td>\n",
       "    </tr>\n",
       "  </tbody>\n",
       "</table>\n",
       "</div>"
      ],
      "text/plain": [
       "          company_permalink   name                homepage_url  category_list  \\\n",
       "count                 18334  18334                       16941          17488   \n",
       "unique                18334  18272                       16916           8208   \n",
       "top     /Organization/Artoo  Blink  http://www.askforoffer.com  Biotechnology   \n",
       "freq                      1      4                           3           1235   \n",
       "\n",
       "           status country_code state_code       region           city  \\\n",
       "count       18333        16531      16085        16240          16240   \n",
       "unique          4          107        251          779           2586   \n",
       "top     operating          USA         CA  SF Bay Area  San Francisco   \n",
       "freq        14592        10671       3606         2428            911   \n",
       "\n",
       "        founded_at  \n",
       "count        14112  \n",
       "unique        2171  \n",
       "top     01-01-2012  \n",
       "freq           731  "
      ]
     },
     "execution_count": 20,
     "metadata": {},
     "output_type": "execute_result"
    }
   ],
   "source": [
    "companies.describe()"
   ]
  },
  {
   "cell_type": "markdown",
   "id": "3d014a02",
   "metadata": {},
   "source": [
    "###  How many unique companies are present in rounds2?"
   ]
  },
  {
   "cell_type": "code",
   "execution_count": 23,
   "id": "0457540c",
   "metadata": {},
   "outputs": [
    {
     "data": {
      "text/plain": [
       "66370"
      ]
     },
     "execution_count": 23,
     "metadata": {},
     "output_type": "execute_result"
    }
   ],
   "source": [
    "rounds['company_permalink']=rounds['company_permalink'].str.lower()\n",
    "len(rounds['company_permalink'].unique())"
   ]
  },
  {
   "cell_type": "markdown",
   "id": "2a6083ca",
   "metadata": {},
   "source": [
    "### How many unique companies are present in companies?"
   ]
  },
  {
   "cell_type": "code",
   "execution_count": 30,
   "id": "1f488366",
   "metadata": {},
   "outputs": [
    {
     "data": {
      "text/plain": [
       "18334"
      ]
     },
     "execution_count": 30,
     "metadata": {},
     "output_type": "execute_result"
    }
   ],
   "source": [
    "companies['company_permalink']=companies['company_permalink'].str.lower()\n",
    "len(companies['company_permalink'].unique())"
   ]
  },
  {
   "cell_type": "markdown",
   "id": "0628e71d",
   "metadata": {},
   "source": [
    "### In the companies data frame, which column can be used as the unique key for each company? Write the name  of the column."
   ]
  },
  {
   "cell_type": "code",
   "execution_count": 33,
   "id": "483fceed",
   "metadata": {},
   "outputs": [
    {
     "data": {
      "text/plain": [
       "False"
      ]
     },
     "execution_count": 33,
     "metadata": {},
     "output_type": "execute_result"
    }
   ],
   "source": [
    "temp1 = pd.DataFrame(rounds.company_permalink.unique())\n",
    "temp2 = pd.DataFrame(companies.company_permalink.unique())\n",
    "temp2.equals(temp1)"
   ]
  },
  {
   "cell_type": "markdown",
   "id": "8fbc68ab",
   "metadata": {},
   "source": [
    "### Merge the two data frames so that all variables (columns) in the companies frame are added to the rounds2 data frame. Name the merged frame master_frame. How many observations are present in master_frame?"
   ]
  },
  {
   "cell_type": "code",
   "execution_count": 38,
   "id": "20d0f38b",
   "metadata": {},
   "outputs": [
    {
     "data": {
      "text/plain": [
       "32082"
      ]
     },
     "execution_count": 38,
     "metadata": {},
     "output_type": "execute_result"
    }
   ],
   "source": [
    "master_frame = pd.merge(rounds, companies, how = 'inner',on = \"company_permalink\")\n",
    "len(master_frame.index)"
   ]
  },
  {
   "cell_type": "markdown",
   "id": "16cd865c",
   "metadata": {},
   "source": [
    "# Funding Type Analysis"
   ]
  },
  {
   "cell_type": "code",
   "execution_count": 49,
   "id": "8b4e0aad",
   "metadata": {},
   "outputs": [
    {
     "data": {
      "text/plain": [
       "(13980, 5)"
      ]
     },
     "execution_count": 49,
     "metadata": {},
     "output_type": "execute_result"
    }
   ],
   "source": [
    "master_frame = master_frame.drop(['funding_round_code', 'funding_round_permalink', 'funded_at','company_permalink', 'homepage_url',\n",
    "                                 'state_code', 'region', 'city', 'founded_at','status'], axis = 1)\n",
    "master_frame = master_frame[~(master_frame['raised_amount_usd'].isnull() | master_frame['country_code'].isnull() |\n",
    "                             master_frame['category_list'].isnull())]\n",
    "master_frame.shape"
   ]
  },
  {
   "cell_type": "code",
   "execution_count": 50,
   "id": "541742aa",
   "metadata": {},
   "outputs": [
    {
     "data": {
      "text/plain": [
       "venture    13980\n",
       "Name: funding_round_type, dtype: int64"
      ]
     },
     "execution_count": 50,
     "metadata": {},
     "output_type": "execute_result"
    }
   ],
   "source": [
    "master_frame.funding_round_type.value_counts()"
   ]
  },
  {
   "cell_type": "code",
   "execution_count": 51,
   "id": "4a52fc7c",
   "metadata": {},
   "outputs": [
    {
     "data": {
      "text/html": [
       "<div>\n",
       "<style scoped>\n",
       "    .dataframe tbody tr th:only-of-type {\n",
       "        vertical-align: middle;\n",
       "    }\n",
       "\n",
       "    .dataframe tbody tr th {\n",
       "        vertical-align: top;\n",
       "    }\n",
       "\n",
       "    .dataframe thead th {\n",
       "        text-align: right;\n",
       "    }\n",
       "</style>\n",
       "<table border=\"1\" class=\"dataframe\">\n",
       "  <thead>\n",
       "    <tr style=\"text-align: right;\">\n",
       "      <th></th>\n",
       "      <th>funding_round_type</th>\n",
       "      <th>raised_amount_usd</th>\n",
       "      <th>name</th>\n",
       "      <th>category_list</th>\n",
       "      <th>country_code</th>\n",
       "    </tr>\n",
       "  </thead>\n",
       "  <tbody>\n",
       "    <tr>\n",
       "      <th>0</th>\n",
       "      <td>venture</td>\n",
       "      <td>1.000000e-05</td>\n",
       "      <td>#fame</td>\n",
       "      <td>Media</td>\n",
       "      <td>IND</td>\n",
       "    </tr>\n",
       "    <tr>\n",
       "      <th>4</th>\n",
       "      <td>venture</td>\n",
       "      <td>2.000000e-06</td>\n",
       "      <td>0-6.com</td>\n",
       "      <td>Curated Web</td>\n",
       "      <td>CHN</td>\n",
       "    </tr>\n",
       "    <tr>\n",
       "      <th>8</th>\n",
       "      <td>venture</td>\n",
       "      <td>7.194910e-07</td>\n",
       "      <td>Ondine Biomedical Inc.</td>\n",
       "      <td>Biotechnology</td>\n",
       "      <td>CAN</td>\n",
       "    </tr>\n",
       "    <tr>\n",
       "      <th>10</th>\n",
       "      <td>venture</td>\n",
       "      <td>2.000000e-05</td>\n",
       "      <td>H2O.ai</td>\n",
       "      <td>Analytics</td>\n",
       "      <td>USA</td>\n",
       "    </tr>\n",
       "    <tr>\n",
       "      <th>11</th>\n",
       "      <td>venture</td>\n",
       "      <td>1.700000e-06</td>\n",
       "      <td>H2O.ai</td>\n",
       "      <td>Analytics</td>\n",
       "      <td>USA</td>\n",
       "    </tr>\n",
       "  </tbody>\n",
       "</table>\n",
       "</div>"
      ],
      "text/plain": [
       "   funding_round_type  raised_amount_usd                    name  \\\n",
       "0             venture       1.000000e-05                   #fame   \n",
       "4             venture       2.000000e-06                 0-6.com   \n",
       "8             venture       7.194910e-07  Ondine Biomedical Inc.   \n",
       "10            venture       2.000000e-05                  H2O.ai   \n",
       "11            venture       1.700000e-06                  H2O.ai   \n",
       "\n",
       "    category_list country_code  \n",
       "0           Media          IND  \n",
       "4     Curated Web          CHN  \n",
       "8   Biotechnology          CAN  \n",
       "10      Analytics          USA  \n",
       "11      Analytics          USA  "
      ]
     },
     "execution_count": 51,
     "metadata": {},
     "output_type": "execute_result"
    }
   ],
   "source": [
    "master_frame = master_frame[(master_frame['funding_round_type'] == 'venture') \n",
    "                            | (master_frame['funding_round_type'] == 'seed')\n",
    "                            | (master_frame['funding_round_type'] == 'angel')\n",
    "                            | (master_frame['funding_round_type'] == 'private_equity')]\n",
    "master_frame.head()"
   ]
  },
  {
   "cell_type": "code",
   "execution_count": 52,
   "id": "bcfc6d6a",
   "metadata": {},
   "outputs": [
    {
     "data": {
      "text/html": [
       "<div>\n",
       "<style scoped>\n",
       "    .dataframe tbody tr th:only-of-type {\n",
       "        vertical-align: middle;\n",
       "    }\n",
       "\n",
       "    .dataframe tbody tr th {\n",
       "        vertical-align: top;\n",
       "    }\n",
       "\n",
       "    .dataframe thead th {\n",
       "        text-align: right;\n",
       "    }\n",
       "</style>\n",
       "<table border=\"1\" class=\"dataframe\">\n",
       "  <thead>\n",
       "    <tr style=\"text-align: right;\">\n",
       "      <th></th>\n",
       "      <th>funding_round_type</th>\n",
       "      <th>raised_amount_usd</th>\n",
       "      <th>name</th>\n",
       "      <th>category_list</th>\n",
       "      <th>country_code</th>\n",
       "    </tr>\n",
       "  </thead>\n",
       "  <tbody>\n",
       "    <tr>\n",
       "      <th>0</th>\n",
       "      <td>venture</td>\n",
       "      <td>1.000000e-11</td>\n",
       "      <td>#fame</td>\n",
       "      <td>Media</td>\n",
       "      <td>IND</td>\n",
       "    </tr>\n",
       "    <tr>\n",
       "      <th>4</th>\n",
       "      <td>venture</td>\n",
       "      <td>2.000000e-12</td>\n",
       "      <td>0-6.com</td>\n",
       "      <td>Curated Web</td>\n",
       "      <td>CHN</td>\n",
       "    </tr>\n",
       "    <tr>\n",
       "      <th>8</th>\n",
       "      <td>venture</td>\n",
       "      <td>7.194910e-13</td>\n",
       "      <td>Ondine Biomedical Inc.</td>\n",
       "      <td>Biotechnology</td>\n",
       "      <td>CAN</td>\n",
       "    </tr>\n",
       "    <tr>\n",
       "      <th>10</th>\n",
       "      <td>venture</td>\n",
       "      <td>2.000000e-11</td>\n",
       "      <td>H2O.ai</td>\n",
       "      <td>Analytics</td>\n",
       "      <td>USA</td>\n",
       "    </tr>\n",
       "    <tr>\n",
       "      <th>11</th>\n",
       "      <td>venture</td>\n",
       "      <td>1.700000e-12</td>\n",
       "      <td>H2O.ai</td>\n",
       "      <td>Analytics</td>\n",
       "      <td>USA</td>\n",
       "    </tr>\n",
       "  </tbody>\n",
       "</table>\n",
       "</div>"
      ],
      "text/plain": [
       "   funding_round_type  raised_amount_usd                    name  \\\n",
       "0             venture       1.000000e-11                   #fame   \n",
       "4             venture       2.000000e-12                 0-6.com   \n",
       "8             venture       7.194910e-13  Ondine Biomedical Inc.   \n",
       "10            venture       2.000000e-11                  H2O.ai   \n",
       "11            venture       1.700000e-12                  H2O.ai   \n",
       "\n",
       "    category_list country_code  \n",
       "0           Media          IND  \n",
       "4     Curated Web          CHN  \n",
       "8   Biotechnology          CAN  \n",
       "10      Analytics          USA  \n",
       "11      Analytics          USA  "
      ]
     },
     "execution_count": 52,
     "metadata": {},
     "output_type": "execute_result"
    }
   ],
   "source": [
    "master_frame['raised_amount_usd'] = master_frame['raised_amount_usd']/1000000\n",
    "master_frame.head()"
   ]
  },
  {
   "cell_type": "code",
   "execution_count": 53,
   "id": "bb9afe49",
   "metadata": {},
   "outputs": [
    {
     "data": {
      "text/plain": [
       "funding_round_type\n",
       "venture    0.0\n",
       "Name: raised_amount_usd, dtype: float64"
      ]
     },
     "execution_count": 53,
     "metadata": {},
     "output_type": "execute_result"
    }
   ],
   "source": [
    "round(master_frame.groupby('funding_round_type').raised_amount_usd.mean(), 2)"
   ]
  },
  {
   "cell_type": "code",
   "execution_count": 55,
   "id": "d3e6eecf",
   "metadata": {},
   "outputs": [],
   "source": [
    "master_frame = master_frame[master_frame['funding_round_type'] == 'venture'] "
   ]
  }
 ],
 "metadata": {
  "kernelspec": {
   "display_name": "Python 3",
   "language": "python",
   "name": "python3"
  },
  "language_info": {
   "codemirror_mode": {
    "name": "ipython",
    "version": 3
   },
   "file_extension": ".py",
   "mimetype": "text/x-python",
   "name": "python",
   "nbconvert_exporter": "python",
   "pygments_lexer": "ipython3",
   "version": "3.8.10"
  }
 },
 "nbformat": 4,
 "nbformat_minor": 5
}
