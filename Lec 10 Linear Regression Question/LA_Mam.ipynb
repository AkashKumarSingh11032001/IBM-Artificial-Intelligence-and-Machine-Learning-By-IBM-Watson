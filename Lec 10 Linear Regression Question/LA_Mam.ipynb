{
 "cells": [
  {
   "cell_type": "code",
   "execution_count": 1,
   "metadata": {
    "scrolled": true
   },
   "outputs": [],
   "source": [
    "## load all liabraries\n",
    "import numpy as np\n",
    "import matplotlib.pyplot as plt\n",
    "import pandas as pd\n",
    "\n",
    "\n"
   ]
  },
  {
   "cell_type": "code",
   "execution_count": 2,
   "metadata": {},
   "outputs": [],
   "source": [
    "# Read the dataset (step1: collect the dataset)\n",
    "df = pd.read_csv ('Dataset/price.csv')\n",
    "\n",
    "\n",
    "#  divide the dataset into dependent and independent  features\n",
    "i = df[[\"Area (sqft)\"]]  # 2D\n",
    "\n",
    "d = df[\"Price ($)\"]   # 1D\n"
   ]
  },
  {
   "cell_type": "code",
   "execution_count": 3,
   "metadata": {},
   "outputs": [
    {
     "name": "stdout",
     "output_type": "stream",
     "text": [
      "<class 'pandas.core.frame.DataFrame'>\n",
      "RangeIndex: 40 entries, 0 to 39\n",
      "Data columns (total 1 columns):\n",
      " #   Column       Non-Null Count  Dtype\n",
      "---  ------       --------------  -----\n",
      " 0   Area (sqft)  40 non-null     int64\n",
      "dtypes: int64(1)\n",
      "memory usage: 448.0 bytes\n"
     ]
    }
   ],
   "source": [
    "# to check the datatype and nan values of each column of independent featurse\n",
    "\n",
    "i.info()"
   ]
  },
  {
   "cell_type": "code",
   "execution_count": 5,
   "metadata": {},
   "outputs": [
    {
     "name": "stdout",
     "output_type": "stream",
     "text": [
      "36\n",
      "4\n",
      "36\n",
      "4\n"
     ]
    }
   ],
   "source": [
    "# train and test split \n",
    "\n",
    "from sklearn.model_selection import train_test_split\n",
    "x_train, x_test, y_train, y_test = train_test_split (i, d, test_size = .10,random_state=0)\n",
    "\n",
    "# print(len(x_train))\n",
    "# print(len(x_test))\n",
    "# print(len(y_train))\n",
    "# print(len(y_test))"
   ]
  },
  {
   "cell_type": "code",
   "execution_count": 6,
   "metadata": {},
   "outputs": [
    {
     "name": "stdout",
     "output_type": "stream",
     "text": [
      "slope [35.81814053]\n",
      "intercept 19952.946806273918\n"
     ]
    }
   ],
   "source": [
    "\n",
    "from sklearn.linear_model import LinearRegression\n",
    "lnr = LinearRegression()   # create object of Linear regression\n",
    "lnr.fit (x_train, y_train ) # fit fxn is used to give training to model/machine \n",
    "\n",
    "m=lnr.coef_  # slope\n",
    "c=lnr.intercept_   #intersecpt\n",
    "print(\"slope\",m)\n",
    "print(\"intercept\",c)"
   ]
  },
  {
   "cell_type": "code",
   "execution_count": 8,
   "metadata": {},
   "outputs": [
    {
     "name": "stdout",
     "output_type": "stream",
     "text": [
      "x_test     Area (sqft)\n",
      "22         1900\n",
      "20         1900\n",
      "25         1590\n",
      "4          1710\n",
      "predicted y records: [88007.41381775 88007.41381775 76903.79025272 81201.96711661]\n",
      "real answers 22    92100\n",
      "20    82600\n",
      "25    75900\n",
      "4     80600\n",
      "Name: Price ($), dtype: int64\n"
     ]
    }
   ],
   "source": [
    "print(\"x_test\",x_test)\n",
    "predicted_y = lnr.predict(x_test)# test the model\n",
    "print(\"predicted y records:\",predicted_y)\n",
    "print(\"real answers\",y_test)"
   ]
  },
  {
   "cell_type": "code",
   "execution_count": 9,
   "metadata": {},
   "outputs": [
    {
     "name": "stdout",
     "output_type": "stream",
     "text": [
      "RMSE is:-\n",
      "Mean Absolute Error(MAE): 2776.4393423321126\n",
      "Mean Squared Error(MSE): 11839836.284120673\n",
      "Root Mean Squared Error(RMSE): 3440.906317254318\n"
     ]
    }
   ],
   "source": [
    "\n",
    "from sklearn.metrics import mean_absolute_error\n",
    "from sklearn.metrics import mean_squared_error\n",
    "from math import sqrt\n",
    "print(\"RMSE is:-\")\n",
    "\n",
    "print('Mean Absolute Error(MAE):', mean_absolute_error(y_test, predicted_y))\n",
    "print('Mean Squared Error(MSE):', mean_squared_error(y_test, predicted_y))\n",
    "print('Root Mean Squared Error(RMSE):', np.sqrt(mean_squared_error(y_test, predicted_y)))"
   ]
  },
  {
   "cell_type": "code",
   "execution_count": 10,
   "metadata": {},
   "outputs": [
    {
     "data": {
      "image/png": "[encoded data removed]",
      "text/plain": [
       "<Figure size 432x288 with 1 Axes>"
      ]
     },
     "metadata": {
      "needs_background": "light"
     },
     "output_type": "display_data"
    }
   ],
   "source": [
    "plt.scatter(x_test, y_test, color = 'red')\n",
    "plt.plot(x_test, predicted_y, color = 'green')\n",
    "plt.title ('Results ')\n",
    "plt.xlabel('Area of Flats')\n",
    "plt.ylabel('Price')\n",
    "plt.show()"
   ]
  },
  {
   "cell_type": "code",
   "execution_count": 10,
   "metadata": {},
   "outputs": [
    {
     "name": "stdout",
     "output_type": "stream",
     "text": [
      " slope: [35.81814053]\n",
      "intercept 19952.946806273918\n",
      "price of land [88007.41381775]\n",
      "rr [88007.41381775]\n"
     ]
    }
   ],
   "source": [
    "#explain equation now y=mx+c\n",
    "m=lnr.coef_  # slope\n",
    "c=lnr.intercept_   #intersecpt\n",
    "print(\" slope:\",m) #slope\n",
    "print(\"intercept\",c)  \n",
    "\n",
    "y=m*1900+c  #Here i is x as defined above\n",
    "print(\"price of land\",y)\n",
    "\n",
    "\n",
    "rr=lnr.predict([[1900]])\n",
    "print(\"rr\",rr)\n",
    "#y= m*1900+c"
   ]
  }
 ],
 "metadata": {
  "kernelspec": {
   "display_name": "Python 3",
   "language": "python",
   "name": "python3"
  },
  "language_info": {
   "codemirror_mode": {
    "name": "ipython",
    "version": 3
   },
   "file_extension": ".py",
   "mimetype": "text/x-python",
   "name": "python",
   "nbconvert_exporter": "python",
   "pygments_lexer": "ipython3",
   "version": "3.8.8"
  }
 },
 "nbformat": 4,
 "nbformat_minor": 2
}
