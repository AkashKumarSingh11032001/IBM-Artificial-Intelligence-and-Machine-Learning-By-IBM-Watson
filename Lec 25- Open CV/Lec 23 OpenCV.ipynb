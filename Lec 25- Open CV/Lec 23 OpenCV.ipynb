{
 "cells": [
  {
   "cell_type": "markdown",
   "id": "e7a51ddb",
   "metadata": {},
   "source": [
    "# Open CV"
   ]
  },
  {
   "cell_type": "code",
   "execution_count": 2,
   "id": "31d4b3f3",
   "metadata": {},
   "outputs": [],
   "source": [
    "import cv2"
   ]
  },
  {
   "cell_type": "code",
   "execution_count": 3,
   "id": "bc245961",
   "metadata": {},
   "outputs": [
    {
     "name": "stdout",
     "output_type": "stream",
     "text": [
      "(421, 750, 3)\n",
      "Width pixel values:  421\n",
      "Height pixel values : 750\n",
      "Width pixel values: 3\n"
     ]
    }
   ],
   "source": [
    "\n",
    "img= cv2.imread('snake.png')\n",
    "\n",
    "cv2.imshow('output',img)\n",
    "cv2.waitKey(0) \n",
    "cv2.destroyAllWindows() \n",
    "print(img.shape)\n",
    "\n",
    "print(\"Width pixel values: \", img.shape[0])\n",
    "print(\"Height pixel values :\",  img.shape[1])\n",
    "print(\"Width pixel values:\", img.shape[2])"
   ]
  },
  {
   "cell_type": "code",
   "execution_count": 6,
   "id": "cd1fb13d",
   "metadata": {},
   "outputs": [
    {
     "name": "stdout",
     "output_type": "stream",
     "text": [
      "(421, 750, 3)\n",
      "(421, 750)\n"
     ]
    },
    {
     "ename": "AttributeError",
     "evalue": "module 'cv2.cv2' has no attribute 'destroyALLwindows'",
     "output_type": "error",
     "traceback": [
      "\u001b[1;31m---------------------------------------------------------------------------\u001b[0m",
      "\u001b[1;31mAttributeError\u001b[0m                            Traceback (most recent call last)",
      "\u001b[1;32m<ipython-input-6-1304872bc249>\u001b[0m in \u001b[0;36m<module>\u001b[1;34m\u001b[0m\n\u001b[0;32m     16\u001b[0m \u001b[1;33m\u001b[0m\u001b[0m\n\u001b[0;32m     17\u001b[0m \u001b[1;31m#clear all windows\u001b[0m\u001b[1;33m\u001b[0m\u001b[1;33m\u001b[0m\u001b[1;33m\u001b[0m\u001b[0m\n\u001b[1;32m---> 18\u001b[1;33m \u001b[0mcv2\u001b[0m\u001b[1;33m.\u001b[0m\u001b[0mdestroyALLwindows\u001b[0m\u001b[1;33m(\u001b[0m\u001b[1;33m)\u001b[0m\u001b[1;33m\u001b[0m\u001b[1;33m\u001b[0m\u001b[0m\n\u001b[0m",
      "\u001b[1;31mAttributeError\u001b[0m: module 'cv2.cv2' has no attribute 'destroyALLwindows'"
     ]
    }
   ],
   "source": [
    "#Example of converting RGB mage into gray scale:\n",
    "\n",
    "img= cv2.imread('snake.png') \n",
    "print(img.shape)\n",
    "\n",
    "cv2.imshow(\"original\",img) \n",
    "cv2.waitKey(8)\n",
    "gray_img= cv2.cvtColor(img, cv2.COLOR_BGR2GRAY)\n",
    "print(gray_img.shape)\n",
    "\n",
    "# for showing image \n",
    "cv2.imshow(\"Grayscale Image\", gray_img)\n",
    "\n",
    "# for holding image\n",
    "cv2.waitKey(0)\n",
    "\n",
    "#clear all windows\n",
    "cv2.destroyALLwindows()"
   ]
  },
  {
   "cell_type": "code",
   "execution_count": 8,
   "id": "9cf3da0f",
   "metadata": {},
   "outputs": [
    {
     "name": "stdout",
     "output_type": "stream",
     "text": [
      "(421, 750, 3)\n"
     ]
    }
   ],
   "source": [
    "#Example of converting RGB image into HSV import cv2 Color space:\n",
    "\n",
    "img= cv2.imread('snake.png') \n",
    "img_HSV = cv2.cvtColor(img, cv2.COLOR_BGR2HSV)\n",
    "print(img_HSV.shape)\n",
    "\n",
    "cv2.imshow('HSVImage', img_HSV)\n",
    "cv2.imshow('HueChannel', img_HSV[:, :,0]) \n",
    "cv2.imshow('Saturation Channel', img_HSV[:, :,1])\n",
    "cv2.imshow('ValueChannel', img_HSV[:, :,2])\n",
    "\n",
    "cv2.waitKey(0)\n",
    "cv2.destroyAllWindows()"
   ]
  },
  {
   "cell_type": "code",
   "execution_count": 15,
   "id": "cc94328e",
   "metadata": {},
   "outputs": [],
   "source": [
    "import cv2\n",
    "import numpy as np\n",
    "img = cv2.imread(\"snake.png\")\n",
    "height,width = img.shape[:2]\n",
    "rotation_matrix = cv2.getRotationMatrix2D((width/2,height/2), 90, .7)\n",
    "rotated_image = cv2.warpAffine(img, rotation_matrix, (width,height))\n",
    "cv2.imshow('Rotated Image',rotated_image)\n",
    "cv2.imshow('Original image',img)\n",
    "cv2.waitKey(0)\n",
    "cv2.destroyAllWindows()"
   ]
  },
  {
   "cell_type": "code",
   "execution_count": 14,
   "id": "adf62f9a",
   "metadata": {},
   "outputs": [
    {
     "data": {
      "image/png": "[encoded data removed]",
      "text/plain": [
       "<Figure size 432x288 with 1 Axes>"
      ]
     },
     "metadata": {},
     "output_type": "display_data"
    }
   ],
   "source": [
    "import cv2\n",
    "\n",
    "import matplotlib.pyplot as plt\n",
    "\n",
    "cap = cv2.VideoCapture (0)\n",
    "\n",
    "if cap.isOpened():\n",
    "\n",
    "    ret, frame = cap.read()\n",
    "\n",
    "else:\n",
    "\n",
    "    ret = False\n",
    "\n",
    "img=cv2.cvtColor (frame, cv2.COLOR_BGR2RGB)\n",
    "\n",
    "plt.imshow(img)\n",
    "\n",
    "plt.title(\"camera image\")\n",
    "\n",
    "plt.xticks([])\n",
    "\n",
    "plt.yticks([])\n",
    "\n",
    "plt.show()\n",
    "\n",
    "cap.release()"
   ]
  },
  {
   "cell_type": "code",
   "execution_count": 1,
   "id": "059d6a09",
   "metadata": {},
   "outputs": [],
   "source": [
    "import cv2, time        #import the time module   \n",
    "video= cv2.VideoCapture(0)     \n",
    "time.sleep(4)         #It will stop the script for 4 seconds.   \n",
    "video.release()  \n",
    " "
   ]
  },
  {
   "cell_type": "code",
   "execution_count": 3,
   "id": "39d520a8",
   "metadata": {
    "scrolled": true
   },
   "outputs": [
    {
     "name": "stdout",
     "output_type": "stream",
     "text": [
      "True\n",
      "[[[ 9  0  1]\n",
      "  [ 9  0  1]\n",
      "  [ 9  0  1]\n",
      "  ...\n",
      "  [ 9  0  1]\n",
      "  [ 9  0  1]\n",
      "  [ 9  0  1]]\n",
      "\n",
      " [[ 9  0  1]\n",
      "  [ 9  0  1]\n",
      "  [ 9  0  1]\n",
      "  ...\n",
      "  [ 9  0  1]\n",
      "  [ 9  0  1]\n",
      "  [ 9  0  1]]\n",
      "\n",
      " [[ 9  0  1]\n",
      "  [ 9  0  1]\n",
      "  [ 9  0  1]\n",
      "  ...\n",
      "  [10  0  1]\n",
      "  [10  0  1]\n",
      "  [10  0  1]]\n",
      "\n",
      " ...\n",
      "\n",
      " [[10  0  1]\n",
      "  [10  0  1]\n",
      "  [10  0  1]\n",
      "  ...\n",
      "  [11  0  1]\n",
      "  [11  0  1]\n",
      "  [11  0  1]]\n",
      "\n",
      " [[ 9  0  1]\n",
      "  [ 9  0  1]\n",
      "  [ 9  0  1]\n",
      "  ...\n",
      "  [11  0  1]\n",
      "  [11  0  1]\n",
      "  [11  0  1]]\n",
      "\n",
      " [[ 9  0  1]\n",
      "  [ 9  0  1]\n",
      "  [ 9  0  1]\n",
      "  ...\n",
      "  [11  0  1]\n",
      "  [11  0  1]\n",
      "  [11  0  1]]]\n"
     ]
    }
   ],
   "source": [
    "import cv2, time\n",
    "video = cv2. VideoCapture(0)\n",
    "check, frame = video.read()\n",
    "print(check)\n",
    "print(frame)\n",
    "time.sleep (2)\n",
    "video.release()  "
   ]
  },
  {
   "cell_type": "code",
   "execution_count": 7,
   "id": "394e81e2",
   "metadata": {},
   "outputs": [
    {
     "data": {
      "text/plain": [
       "-1"
      ]
     },
     "execution_count": 7,
     "metadata": {},
     "output_type": "execute_result"
    }
   ],
   "source": [
    "import cv2\n",
    "import numpy as np\n",
    "img = cv2.imread(\"snake.png\")\n",
    "cv2.imshow('Original Image',img)\n",
    "cv2.waitKey(0)\n",
    "canny = cv2.Canny(img, 20, 170)\n",
    "cv2.imshow('canny image',canny)\n",
    "cv2.waitKey(0)"
   ]
  },
  {
   "cell_type": "code",
   "execution_count": null,
   "id": "52abb112",
   "metadata": {},
   "outputs": [],
   "source": [
    "def sketch(image):\n",
    " img_gray = cv2.cvtColor(image,cv2.COLOR_BGR2GRAY)\n",
    " img_gray_blur =cv2.GaussianBlur(img_gray,(5,5),0)\n",
    " canny_edge =cv2.Canny(img_gray_blur,10,70)\n",
    " ret, mask =cv2.threshold(canny_edge,70,255,cv2.THRESH_BINARY)\n",
    " return mask\n",
    "cap = cv2.VideoCapture(0)\n",
    "while True:\n",
    "    ret, frame = cap.read()\n",
    "    cv2.imshow('Our live sketch',sketch(frame))\n",
    "    if cv2.waitKey(1) == 27:\n",
    "        break\n",
    "cap.release()\n",
    "cv2.destroyAllWindows()"
   ]
  }
 ],
 "metadata": {
  "kernelspec": {
   "display_name": "Python 3",
   "language": "python",
   "name": "python3"
  },
  "language_info": {
   "codemirror_mode": {
    "name": "ipython",
    "version": 3
   },
   "file_extension": ".py",
   "mimetype": "text/x-python",
   "name": "python",
   "nbconvert_exporter": "python",
   "pygments_lexer": "ipython3",
   "version": "3.8.8"
  }
 },
 "nbformat": 4,
 "nbformat_minor": 5
}
