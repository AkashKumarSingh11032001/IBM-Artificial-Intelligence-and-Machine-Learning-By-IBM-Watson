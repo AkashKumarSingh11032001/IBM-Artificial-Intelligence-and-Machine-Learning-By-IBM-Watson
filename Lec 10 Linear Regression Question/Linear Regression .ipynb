{
 "cells": [
  {
   "cell_type": "markdown",
   "id": "026dafc1",
   "metadata": {},
   "source": [
    "# Linear Regression [Predict Admission  Dataset]"
   ]
  },
  {
   "cell_type": "code",
   "execution_count": 1,
   "id": "85c44c13",
   "metadata": {},
   "outputs": [],
   "source": [
    "# Load necessary Libraries \n",
    "import numpy as np\n",
    "import matplotlib.pyplot as plt\n",
    "import pandas as pd"
   ]
  },
  {
   "cell_type": "code",
   "execution_count": 2,
   "id": "137a290f",
   "metadata": {},
   "outputs": [],
   "source": [
    "# read Dataset [ STEP 1: Collect the data ]\n",
    "data = pd.read_csv(\"Dataset/admission.csv\")\n",
    "\n",
    "\n",
    "# divide dataset into dependent( chanace of admit ) and independent (all score /sop/lor/cgpa)\n",
    "\n",
    "i = data.iloc[:,1:8]\n",
    "d = data.iloc[:,8]\n",
    "\n"
   ]
  },
  {
   "cell_type": "code",
   "execution_count": 3,
   "id": "95cdd3d6",
   "metadata": {},
   "outputs": [
    {
     "name": "stdout",
     "output_type": "stream",
     "text": [
      "<class 'pandas.core.frame.DataFrame'>\n",
      "RangeIndex: 500 entries, 0 to 499\n",
      "Data columns (total 9 columns):\n",
      " #   Column             Non-Null Count  Dtype  \n",
      "---  ------             --------------  -----  \n",
      " 0   Serial No.         500 non-null    int64  \n",
      " 1   GRE Score          500 non-null    int64  \n",
      " 2   TOEFL Score        500 non-null    int64  \n",
      " 3   University Rating  500 non-null    int64  \n",
      " 4   SOP                500 non-null    float64\n",
      " 5   LOR                500 non-null    float64\n",
      " 6   CGPA               500 non-null    float64\n",
      " 7   Research           500 non-null    int64  \n",
      " 8   Chance of Admit    500 non-null    float64\n",
      "dtypes: float64(4), int64(5)\n",
      "memory usage: 35.3 KB\n"
     ]
    }
   ],
   "source": [
    "# check for loss data like Nan/Empty space/ etc [ Step 2 : Data Wranglling]\n",
    "data.info()"
   ]
  },
  {
   "cell_type": "code",
   "execution_count": 4,
   "id": "1f1cda14",
   "metadata": {},
   "outputs": [
    {
     "name": "stdout",
     "output_type": "stream",
     "text": [
      "400\n",
      "100\n",
      "400\n",
      "100\n"
     ]
    }
   ],
   "source": [
    "# Split the dataset into 4 categories [ x_train / x_test / y_train / y_test]\n",
    "\n",
    "from sklearn.model_selection import train_test_split as training \n",
    "x_train , x_test , y_train , y_test = training(i , d , test_size = 0.2 , random_state = 0 )\n",
    "\n",
    "print(len(x_train))\n",
    "print(len(x_test))\n",
    "print(len(y_train))\n",
    "print(len(y_test))"
   ]
  },
  {
   "cell_type": "code",
   "execution_count": 5,
   "id": "a0055846",
   "metadata": {},
   "outputs": [
    {
     "data": {
      "text/plain": [
       "LinearRegression()"
      ]
     },
     "execution_count": 5,
     "metadata": {},
     "output_type": "execute_result"
    }
   ],
   "source": [
    "# Training the modals\n",
    "from sklearn.linear_model import LinearRegression \n",
    "lnr = LinearRegression()\n",
    "lnr.fit(x_train, y_train)\n"
   ]
  },
  {
   "cell_type": "code",
   "execution_count": 8,
   "id": "230726ba",
   "metadata": {},
   "outputs": [
    {
     "name": "stdout",
     "output_type": "stream",
     "text": [
      "Slope --->  [0.00214141 0.00277039 0.00555693 0.00051031 0.02041338 0.11505398\n",
      " 0.02412567]\n",
      "Intercept --->  -1.3441673411950714\n"
     ]
    }
   ],
   "source": [
    "# Finding Slope(m) and Intercept (c)\n",
    "\n",
    "slope = lnr.coef_\n",
    "inter = lnr.intercept_\n",
    "\n",
    "print(\"Slope ---> \",slope)\n",
    "print(\"Intercept ---> \",inter)"
   ]
  },
  {
   "cell_type": "code",
   "execution_count": 10,
   "id": "c07eecfe",
   "metadata": {},
   "outputs": [
    {
     "name": "stdout",
     "output_type": "stream",
     "text": [
      "Real Answer [0.64 0.85 0.8  0.91 0.68 0.54 0.54 0.65 0.52 0.79 0.65 0.74 0.64 0.79\n",
      " 0.89 0.43 0.81 0.73 0.8  0.58 0.57 0.74 0.6  0.93 0.88 0.67 0.7  0.57\n",
      " 0.48 0.64 0.69 0.47 0.57 0.87 0.39 0.53 0.84 0.89 0.63 0.7  0.72 0.86\n",
      " 0.91 0.75 0.74 0.76 0.96 0.81 0.6  0.62 0.69 0.68 0.59 0.8  0.71 0.78\n",
      " 0.69 0.89 0.67 0.58 0.44 0.89 0.53 0.92 0.66 0.73 0.52 0.86 0.54 0.72\n",
      " 0.92 0.55 0.75 0.73 0.85 0.91 0.75 0.71 0.54 0.68 0.62 0.88 0.59 0.74\n",
      " 0.8  0.63 0.77 0.65 0.57 0.7  0.76 0.78 0.71 0.73 0.73 0.95 0.64 0.53\n",
      " 0.48 0.64] \n",
      "Predicted Answer [0.6606252  0.83467888 0.77803235 0.88054515 0.60126564 0.64356569\n",
      " 0.53081352 0.69581338 0.52494695 0.74711904 0.61091713 0.70857888\n",
      " 0.62202889 0.75371215 0.88455163 0.50857541 0.82439288 0.64614159\n",
      " 0.7656139  0.53346257 0.51561087 0.72319839 0.52118775 0.92174074\n",
      " 0.8332172  0.72651112 0.69865521 0.50871376 0.58246086 0.59618334\n",
      " 0.72743587 0.48564416 0.65331018 0.8414552  0.56459962 0.59803765\n",
      " 0.84391714 0.86746389 0.59031772 0.65993134 0.67020768 0.90220251\n",
      " 0.86565391 0.72223457 0.77319666 0.8068659  0.97014963 0.85112801\n",
      " 0.6429692  0.65569499 0.63193629 0.6367591  0.61353916 0.80117655\n",
      " 0.6942999  0.85574591 0.52489959 0.86276624 0.60022041 0.63653589\n",
      " 0.49798224 0.90699384 0.61965598 0.94547309 0.7196482  0.61602013\n",
      " 0.73614278 0.8434937  0.519103   0.77895777 0.8947432  0.78381774\n",
      " 0.69730948 0.63992055 0.78922356 0.916447   0.7522116  0.72918547\n",
      " 0.55987804 0.66139049 0.59504557 0.8592551  0.55418168 0.67073234\n",
      " 0.76931897 0.55440527 0.81743067 0.61916368 0.4583537  0.66019097\n",
      " 0.71853303 0.78402829 0.65818434 0.70588416 0.62676455 0.94214646\n",
      " 0.54543    0.53636442 0.6003905  0.6153504 ]\n"
     ]
    }
   ],
   "source": [
    "# Test the model and find \"predicted_y\" \n",
    "predicted_y = lnr.predict(x_test)\n",
    "\n",
    "\n",
    "y_test = y_test.values \n",
    "print(f\"Real Answer {y_test} \")\n",
    "\n",
    "print(f\"Predicted Answer {predicted_y}\")\n"
   ]
  },
  {
   "cell_type": "code",
   "execution_count": 11,
   "id": "fbfac826",
   "metadata": {},
   "outputs": [
    {
     "name": "stdout",
     "output_type": "stream",
     "text": [
      "Mean Absolute Error(MAE) --->  0.04825389374865475\n",
      "Mean Squared Error(MSE) --->  0.004079680034602108\n",
      "Root Mean Squared Error(RMSE) --->  0.06387237301527247\n"
     ]
    }
   ],
   "source": [
    "# find mean / media / mode\n",
    "from sklearn.metrics import mean_absolute_error\n",
    "from sklearn.metrics import mean_squared_error\n",
    "from math import sqrt\n",
    "\n",
    "print('Mean Absolute Error(MAE) ---> ', mean_absolute_error(y_test, predicted_y))\n",
    "print('Mean Squared Error(MSE) ---> ', mean_squared_error(y_test, predicted_y))\n",
    "print('Root Mean Squared Error(RMSE) ---> ', np.sqrt(mean_squared_error(y_test, predicted_y)))"
   ]
  },
  {
   "cell_type": "code",
   "execution_count": 13,
   "id": "9f33f23c",
   "metadata": {},
   "outputs": [
    {
     "data": {
      "image/png": "[encoded data removed]",
      "text/plain": [
       "<Figure size 432x288 with 1 Axes>"
      ]
     },
     "metadata": {
      "needs_background": "light"
     },
     "output_type": "display_data"
    }
   ],
   "source": [
    "plt.scatter(y_test,predicted_y,color='g')\n",
    "plt.show()"
   ]
  },
  {
   "cell_type": "code",
   "execution_count": 17,
   "id": "9b9a82b9",
   "metadata": {},
   "outputs": [
    {
     "data": {
      "image/png": "[encoded data removed]",
      "text/plain": [
       "<Figure size 432x288 with 1 Axes>"
      ]
     },
     "metadata": {
      "needs_background": "light"
     },
     "output_type": "display_data"
    }
   ],
   "source": [
    "plt.scatter(x_test[\"CGPA\"],y_test)\n",
    "plt.scatter(x_test[\"CGPA\"],predicted_y)\n",
    "plt.show()"
   ]
  }
 ],
 "metadata": {
  "kernelspec": {
   "display_name": "Python 3",
   "language": "python",
   "name": "python3"
  },
  "language_info": {
   "codemirror_mode": {
    "name": "ipython",
    "version": 3
   },
   "file_extension": ".py",
   "mimetype": "text/x-python",
   "name": "python",
   "nbconvert_exporter": "python",
   "pygments_lexer": "ipython3",
   "version": "3.8.8"
  }
 },
 "nbformat": 4,
 "nbformat_minor": 5
}
