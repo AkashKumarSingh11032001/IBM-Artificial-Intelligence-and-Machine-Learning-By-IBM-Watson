{
 "cells": [
  {
   "cell_type": "markdown",
   "id": "e7aa2aaf",
   "metadata": {},
   "source": [
    "# Book Analysis using NumPy "
   ]
  },
  {
   "cell_type": "code",
   "execution_count": 1,
   "id": "858526d9",
   "metadata": {},
   "outputs": [],
   "source": [
    "import pandas as pd\n",
    "import numpy as np\n",
    "import matplotlib.pyplot as plt\n",
    "import csv\n"
   ]
  },
  {
   "cell_type": "code",
   "execution_count": 18,
   "id": "e16b5e69",
   "metadata": {},
   "outputs": [
    {
     "data": {
      "text/plain": [
       "(68100, 12)"
      ]
     },
     "execution_count": 18,
     "metadata": {},
     "output_type": "execute_result"
    }
   ],
   "source": [
    "data = pd.read_csv('book.csv')\n",
    "df = data.copy()\n",
    "df = df.drop(['Unnamed: 0','Unnamed: 0.1'],axis = 1)\n",
    "df = df.dropna()\n",
    "df.shape"
   ]
  },
  {
   "cell_type": "code",
   "execution_count": 20,
   "id": "274162da",
   "metadata": {},
   "outputs": [
    {
     "data": {
      "text/html": [
       "<div>\n",
       "<style scoped>\n",
       "    .dataframe tbody tr th:only-of-type {\n",
       "        vertical-align: middle;\n",
       "    }\n",
       "\n",
       "    .dataframe tbody tr th {\n",
       "        vertical-align: top;\n",
       "    }\n",
       "\n",
       "    .dataframe thead th {\n",
       "        text-align: right;\n",
       "    }\n",
       "</style>\n",
       "<table border=\"1\" class=\"dataframe\">\n",
       "  <thead>\n",
       "    <tr style=\"text-align: right;\">\n",
       "      <th></th>\n",
       "      <th>ISBN</th>\n",
       "      <th>Book-Title</th>\n",
       "      <th>Book-Author</th>\n",
       "      <th>Year-Of-Publication</th>\n",
       "      <th>Publisher</th>\n",
       "      <th>Image-URL-S</th>\n",
       "      <th>Image-URL-M</th>\n",
       "      <th>Image-URL-L</th>\n",
       "      <th>User-ID</th>\n",
       "      <th>Book-Rating</th>\n",
       "      <th>Location</th>\n",
       "      <th>Age</th>\n",
       "    </tr>\n",
       "  </thead>\n",
       "  <tbody>\n",
       "    <tr>\n",
       "      <th>0</th>\n",
       "      <td>195153448</td>\n",
       "      <td>Classical Mythology</td>\n",
       "      <td>Mark P. O. Morford</td>\n",
       "      <td>2002</td>\n",
       "      <td>Oxford University Press</td>\n",
       "      <td>http://images.amazon.com/images/P/0195153448.0...</td>\n",
       "      <td>http://images.amazon.com/images/P/0195153448.0...</td>\n",
       "      <td>http://images.amazon.com/images/P/0195153448.0...</td>\n",
       "      <td>2.0</td>\n",
       "      <td>0.0</td>\n",
       "      <td>stockton california usa\"</td>\n",
       "      <td>18</td>\n",
       "    </tr>\n",
       "    <tr>\n",
       "      <th>9258</th>\n",
       "      <td>60973129</td>\n",
       "      <td>Decision in Normandy</td>\n",
       "      <td>Carlo D'Este</td>\n",
       "      <td>1991</td>\n",
       "      <td>HarperPerennial</td>\n",
       "      <td>http://images.amazon.com/images/P/0060973129.0...</td>\n",
       "      <td>http://images.amazon.com/images/P/0060973129.0...</td>\n",
       "      <td>http://images.amazon.com/images/P/0060973129.0...</td>\n",
       "      <td>2954.0</td>\n",
       "      <td>8.0</td>\n",
       "      <td>wichita kansas usa\"</td>\n",
       "      <td>71</td>\n",
       "    </tr>\n",
       "    <tr>\n",
       "      <th>9259</th>\n",
       "      <td>440235502</td>\n",
       "      <td>October Sky: A Memoir</td>\n",
       "      <td>Homer Hickam</td>\n",
       "      <td>1999</td>\n",
       "      <td>Dell</td>\n",
       "      <td>http://images.amazon.com/images/P/0440235502.0...</td>\n",
       "      <td>http://images.amazon.com/images/P/0440235502.0...</td>\n",
       "      <td>http://images.amazon.com/images/P/0440235502.0...</td>\n",
       "      <td>2954.0</td>\n",
       "      <td>10.0</td>\n",
       "      <td>wichita kansas usa\"</td>\n",
       "      <td>71</td>\n",
       "    </tr>\n",
       "    <tr>\n",
       "      <th>9260</th>\n",
       "      <td>380973499</td>\n",
       "      <td>War's End: An Eyewitness Account of America's ...</td>\n",
       "      <td>Charles W. Sweeney</td>\n",
       "      <td>1997</td>\n",
       "      <td>William Morrow &amp;amp; Company</td>\n",
       "      <td>http://images.amazon.com/images/P/0380973499.0...</td>\n",
       "      <td>http://images.amazon.com/images/P/0380973499.0...</td>\n",
       "      <td>http://images.amazon.com/images/P/0380973499.0...</td>\n",
       "      <td>2954.0</td>\n",
       "      <td>7.0</td>\n",
       "      <td>wichita kansas usa\"</td>\n",
       "      <td>71</td>\n",
       "    </tr>\n",
       "    <tr>\n",
       "      <th>9262</th>\n",
       "      <td>031224116X</td>\n",
       "      <td>Murder on the Mauretania (George Porter Dillma...</td>\n",
       "      <td>Conrad Allen</td>\n",
       "      <td>2000</td>\n",
       "      <td>St. Martin's Minotaur</td>\n",
       "      <td>http://images.amazon.com/images/P/031224116X.0...</td>\n",
       "      <td>http://images.amazon.com/images/P/031224116X.0...</td>\n",
       "      <td>http://images.amazon.com/images/P/031224116X.0...</td>\n",
       "      <td>2954.0</td>\n",
       "      <td>8.0</td>\n",
       "      <td>wichita kansas usa\"</td>\n",
       "      <td>71</td>\n",
       "    </tr>\n",
       "  </tbody>\n",
       "</table>\n",
       "</div>"
      ],
      "text/plain": [
       "            ISBN                                         Book-Title  \\\n",
       "0      195153448                                Classical Mythology   \n",
       "9258    60973129                               Decision in Normandy   \n",
       "9259   440235502                              October Sky: A Memoir   \n",
       "9260   380973499  War's End: An Eyewitness Account of America's ...   \n",
       "9262  031224116X  Murder on the Mauretania (George Porter Dillma...   \n",
       "\n",
       "             Book-Author Year-Of-Publication                     Publisher  \\\n",
       "0     Mark P. O. Morford                2002       Oxford University Press   \n",
       "9258        Carlo D'Este                1991               HarperPerennial   \n",
       "9259        Homer Hickam                1999                          Dell   \n",
       "9260  Charles W. Sweeney                1997  William Morrow &amp; Company   \n",
       "9262        Conrad Allen                2000         St. Martin's Minotaur   \n",
       "\n",
       "                                            Image-URL-S  \\\n",
       "0     http://images.amazon.com/images/P/0195153448.0...   \n",
       "9258  http://images.amazon.com/images/P/0060973129.0...   \n",
       "9259  http://images.amazon.com/images/P/0440235502.0...   \n",
       "9260  http://images.amazon.com/images/P/0380973499.0...   \n",
       "9262  http://images.amazon.com/images/P/031224116X.0...   \n",
       "\n",
       "                                            Image-URL-M  \\\n",
       "0     http://images.amazon.com/images/P/0195153448.0...   \n",
       "9258  http://images.amazon.com/images/P/0060973129.0...   \n",
       "9259  http://images.amazon.com/images/P/0440235502.0...   \n",
       "9260  http://images.amazon.com/images/P/0380973499.0...   \n",
       "9262  http://images.amazon.com/images/P/031224116X.0...   \n",
       "\n",
       "                                            Image-URL-L  User-ID  Book-Rating  \\\n",
       "0     http://images.amazon.com/images/P/0195153448.0...      2.0          0.0   \n",
       "9258  http://images.amazon.com/images/P/0060973129.0...   2954.0          8.0   \n",
       "9259  http://images.amazon.com/images/P/0440235502.0...   2954.0         10.0   \n",
       "9260  http://images.amazon.com/images/P/0380973499.0...   2954.0          7.0   \n",
       "9262  http://images.amazon.com/images/P/031224116X.0...   2954.0          8.0   \n",
       "\n",
       "                      Location Age  \n",
       "0     stockton california usa\"  18  \n",
       "9258       wichita kansas usa\"  71  \n",
       "9259       wichita kansas usa\"  71  \n",
       "9260       wichita kansas usa\"  71  \n",
       "9262       wichita kansas usa\"  71  "
      ]
     },
     "execution_count": 20,
     "metadata": {},
     "output_type": "execute_result"
    }
   ],
   "source": [
    "df.head()"
   ]
  },
  {
   "cell_type": "code",
   "execution_count": 13,
   "id": "a153e211",
   "metadata": {},
   "outputs": [
    {
     "data": {
      "text/plain": [
       "array(['2002', '1991', '1999', ..., '1969', '1985', '1998'], dtype=object)"
      ]
     },
     "execution_count": 13,
     "metadata": {},
     "output_type": "execute_result"
    }
   ],
   "source": [
    "np_year = df[\"Year-Of-Publication\"].to_numpy()\n",
    "np_year"
   ]
  },
  {
   "cell_type": "code",
   "execution_count": 14,
   "id": "f074df6a",
   "metadata": {},
   "outputs": [
    {
     "name": "stdout",
     "output_type": "stream",
     "text": [
      "{'2002': 5937, '1991': 1902, '1999': 5105, '1997': 3941, '2000': 4933, '1996': 3956, '2001': 5391, '1998': 4259, '1995': 3467, '1994': 3075, '1992': 2221, '1988': 1289, '1989': 1597, '1978': 325, '1986': 979, '1993': 2611, '1985': 861, '2004': 1867, '1983': 815, '2003': 4932, '1990': 1890, '1987': 1182, '1984': 952, '0': 981, '1979': 256, '1977': 263, '1980': 365, '1982': 686, 'Place\\\\\"': 1, '1950': 10, '1976': 272, 'Carolyn Wyman': 1, '1975': 123, '1971': 63, '1961': 16, '1943': 1, '1953': 39, '1970': 72, '1968': 28, '1973': 104, 'for': 24, '1981': 517, \"Child's\": 16, '1974': 148, '1963': 23, '1969': 59, 'Andy Mangels': 1, '1958': 13, '1951': 6, '1923': 2, '1959': 39, '1972': 109, '1954': 17, 'Sara Bliss': 1, '1962': 14, '1965': 43, 'the': 14, 'French': 1, '2005': 4, '1946': 8, '1957': 23, 'Kids': 1, '1964': 15, '1967': 25, 'Why': 1, '1939': 1, 'You!\\\\\"': 1, '1955': 13, '1942': 4, '1952': 5, '1960': 25, '(Easy': 2, 'Rawlins': 2, 'Grief\\\\\"': 1, '1937': 3, 'Lover\\\\\"': 1, '1966': 32, '...': 2, '2030': 3, '1920': 15, 'and': 4, 'Learn': 1, 'Douglas Rushkoff': 1, 'of': 4, 'Fall': 1, '1956': 13, 'a': 4, 'Mark Bernthal': 1, 'My': 1, '2011': 1, '1941': 2, 'Prince\\\\\"': 3, 'Josep Lozano Lerma': 1, 'Juan Manuel de Prada': 1, 'Chet Flippo': 1, 'Mystery\"': 1, '2020': 1, 'Cook\"': 1, 'Named': 1, '1938': 2, 'to': 3, '1929': 1, 'Guide': 1, '1945': 1, '1936': 4, '1948': 2, '(MOPS...Because': 1, 'Joanne Stepaniak': 1, 'Go': 1, '(Bel': 2, '(Love': 1, '(Women': 1, 'It': 2, 'Sam Chaiton': 1, '(My': 1, 'Long': 1, '1911': 1, 'Trying': 1, 'Cancer\\\\\"': 1, 'Leon Thompson': 1, 'Tale': 1, 'Wallpaper\\\\\"': 1, 'Problem': 1, 'Through': 1, 'colonie': 1, 'Was': 1, 'Gilbert Hernandez': 1, 'Live': 1, '1940': 1, 'According': 1, 'Heights': 1, 'It\\\\\"': 1, 'Woodland': 1, 'William F. Buckley': 1, 'Alvaro Reizabal': 1, 'Manuel Blanco Chivite': 1, 'Fatima Igramhan': 1, '1949': 2, '1925': 1, 'Greek\\\\\"': 1, 'Back': 1, 'Live\\\\\":': 1, 'Trilogy\"': 1, 'okruzhaiushchaia': 1}\n"
     ]
    }
   ],
   "source": [
    "year_dic = dict()\n",
    "for yea in np_year:\n",
    "    if yea in year_dic.keys():\n",
    "        year_dic[yea] += 1\n",
    "    else:\n",
    "        year_dic[yea] = 1\n",
    "print(year_dic) "
   ]
  },
  {
   "cell_type": "code",
   "execution_count": 7,
   "id": "337d9e9e",
   "metadata": {},
   "outputs": [
    {
     "data": {
      "text/plain": [
       "(array(['#NAME?', '&amp', '(Lions)\"', ..., 'on)\"', 'the', 'to'],\n",
       "       dtype='<U60'),\n",
       " array([ 1,  1,  1, ...,  1,  1, 17], dtype=int64))"
      ]
     },
     "execution_count": 7,
     "metadata": {},
     "output_type": "execute_result"
    }
   ],
   "source": [
    "# other way\n",
    "dff = np.array(df)\n",
    "fre = dff[:,5].astype(str)\n",
    "val,count = np.unique(fre,return_counts = True)\n",
    "val,count"
   ]
  },
  {
   "cell_type": "code",
   "execution_count": 16,
   "id": "63013aea",
   "metadata": {},
   "outputs": [
    {
     "data": {
      "text/plain": [
       "'2002'"
      ]
     },
     "execution_count": 16,
     "metadata": {},
     "output_type": "execute_result"
    }
   ],
   "source": [
    "# year having maxbook \n",
    "max_book = max(year_dic,key=year_dic.get)\n",
    "max_book"
   ]
  },
  {
   "cell_type": "code",
   "execution_count": 25,
   "id": "d3d8cb39",
   "metadata": {},
   "outputs": [
    {
     "data": {
      "text/plain": [
       "['0.0 3513',\n",
       " '1.0 6',\n",
       " '2.0 16',\n",
       " '3.0 31',\n",
       " '4.0 52',\n",
       " '5.0 171',\n",
       " '6.0 225',\n",
       " '7.0 448',\n",
       " '8.0 621',\n",
       " '9.0 395',\n",
       " '10.0 459']"
      ]
     },
     "execution_count": 25,
     "metadata": {},
     "output_type": "execute_result"
    }
   ],
   "source": [
    "# book based on rating \n",
    "rec = dff[dff[:,3] == '2002']\n",
    "rate = rec[:,9]\n",
    "val,rating = np.unique(rate,return_counts = True)\n",
    "\n",
    "\n",
    "res = [str(a)+\" \"+str(b) for a,b in zip(val,rating)]\n",
    "res"
   ]
  }
 ],
 "metadata": {
  "kernelspec": {
   "display_name": "Python 3",
   "language": "python",
   "name": "python3"
  },
  "language_info": {
   "codemirror_mode": {
    "name": "ipython",
    "version": 3
   },
   "file_extension": ".py",
   "mimetype": "text/x-python",
   "name": "python",
   "nbconvert_exporter": "python",
   "pygments_lexer": "ipython3",
   "version": "3.8.10"
  }
 },
 "nbformat": 4,
 "nbformat_minor": 5
}
