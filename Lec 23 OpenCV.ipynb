{
 "cells": [
  {
   "cell_type": "markdown",
   "id": "897b1c3c",
   "metadata": {},
   "source": [
    "# Open CV"
   ]
  },
  {
   "cell_type": "code",
   "execution_count": 2,
   "id": "c8f25a3f",
   "metadata": {},
   "outputs": [],
   "source": [
    "import cv2"
   ]
  },
  {
   "cell_type": "code",
   "execution_count": null,
   "id": "5cbe69e7",
   "metadata": {},
   "outputs": [],
   "source": [
    "\n",
    "img= cv2.imread('caps.jpg')\n",
    "\n",
    "cv2.imshow('output',img)\n",
    "\n",
    "print(img.shape)\n",
    "\n",
    "print(\"Height pixel values : print(\"Width pixel values: 3 img.shape[0]) img.shape[1])\n",
    "\n",
    "print(\"Width pixel values img.shape[2])"
   ]
  }
 ],
 "metadata": {
  "kernelspec": {
   "display_name": "Python 3",
   "language": "python",
   "name": "python3"
  },
  "language_info": {
   "codemirror_mode": {
    "name": "ipython",
    "version": 3
   },
   "file_extension": ".py",
   "mimetype": "text/x-python",
   "name": "python",
   "nbconvert_exporter": "python",
   "pygments_lexer": "ipython3",
   "version": "3.8.8"
  }
 },
 "nbformat": 4,
 "nbformat_minor": 5
}
