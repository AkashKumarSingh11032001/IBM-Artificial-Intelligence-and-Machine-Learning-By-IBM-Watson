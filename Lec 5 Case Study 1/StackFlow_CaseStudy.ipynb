{
 "cells": [
  {
   "cell_type": "markdown",
   "id": "7e0ab9ce",
   "metadata": {},
   "source": [
    "# StackFlow_CaseStudy"
   ]
  },
  {
   "cell_type": "code",
   "execution_count": 3,
   "id": "77cc2b68",
   "metadata": {},
   "outputs": [],
   "source": [
    "import pandas as pd\n",
    "import numpy as np\n",
    "import matplotlib.pyplot as plt\n",
    "import csv"
   ]
  },
  {
   "cell_type": "markdown",
   "id": "6831a4f7",
   "metadata": {},
   "source": [
    "### Find the display name and no. of posts created by the user who has got maximum reputation.\n"
   ]
  },
  {
   "cell_type": "code",
   "execution_count": 12,
   "id": "33792cb1",
   "metadata": {},
   "outputs": [
    {
     "name": "stdout",
     "output_type": "stream",
     "text": [
      "'Jon Skeet' have highest reputation of '736381' and have used id '22656' and total published post is '1' \n"
     ]
    }
   ],
   "source": [
    "data1 = pd.read_csv(\"Dataset/users.csv\")\n",
    "data2 = pd.read_csv(\"Dataset/post.csv\")\n",
    "df = data1.copy()\n",
    "rep = df.reputation.max()\n",
    "name = np.array(df.displayname[df.reputation == rep])\n",
    "for i in name:\n",
    "    name = i\n",
    "    \n",
    "user_id= np.array(df.userid[df.displayname == name])\n",
    "for i in user_id:\n",
    "    user_id = i\n",
    "    \n",
    "num_post = len(np.array(df.userid[df.userid == user_id]))  \n",
    "\n",
    "print(f\"'{name}' have highest reputation of '{rep}' and have used id '{user_id}' and total published post is '{num_post}' \")"
   ]
  },
  {
   "cell_type": "markdown",
   "id": "551563f3",
   "metadata": {},
   "source": [
    "### Find the average age of users on the Stack Overflow site.\n"
   ]
  },
  {
   "cell_type": "code",
   "execution_count": 13,
   "id": "bbbf52a8",
   "metadata": {},
   "outputs": [
    {
     "name": "stdout",
     "output_type": "stream",
     "text": [
      "average age of users '35.263352397712275'\n"
     ]
    }
   ],
   "source": [
    "# Find the average age of users on the Stack Overflow site.\n",
    "\n",
    "data = pd.read_csv(\"Dataset/users.csv\")\n",
    "df = data.copy()\n",
    "#df.age.fillna(0.0)\n",
    "men = df.age.mean(axis=0,skipna = True)\n",
    "print(f\"average age of users '{men}'\")\n",
    "\n"
   ]
  },
  {
   "cell_type": "markdown",
   "id": "62b799e2",
   "metadata": {},
   "source": [
    "### Find the display name of user who posted the oldest post on Stack Overflow (in terms of date).\n"
   ]
  },
  {
   "cell_type": "code",
   "execution_count": 54,
   "id": "75ebedc2",
   "metadata": {},
   "outputs": [
    {
     "name": "stdout",
     "output_type": "stream",
     "text": [
      "Kevin Dente have oldest post on Stack Overflow '01-08-2008 00:42'\n"
     ]
    }
   ],
   "source": [
    "# Find the display name of user who posted the oldest post on Stack Overflow (in terms of date).\n",
    "data1 = pd.read_csv(\"Dataset/users.csv\")\n",
    "data2 = pd.read_csv(\"Dataset/post.csv\")\n",
    "df1 = data1.copy()\n",
    "df2 = data2.copy()\n",
    "#user_name_np = np.array()\n",
    "user_name = pd.DataFrame(df1.displayname)\n",
    "\n",
    "post_date = pd.DataFrame(df2.creationdate)\n",
    "post_date = min(df2['creationdate'])\n",
    "\n",
    "#post_date['creationdate'] =post_date['creationdate'].astype('datetime64[ns]')\n",
    "user_id = np.array(df2.userid[df2.creationdate == min(df2['creationdate'])])\n",
    "for i in user_id:\n",
    "    user_id = i\n",
    "    \n",
    "    \n",
    "user_name = np.array(df1.displayname[df1.userid == user_id])\n",
    "for i in user_name:\n",
    "    user_name = i\n",
    "\n",
    "print(f\"{user_name} have oldest post on Stack Overflow '{post_date}'\")"
   ]
  },
  {
   "cell_type": "markdown",
   "id": "a1a58632",
   "metadata": {},
   "source": [
    "### Find the display name and no. of comments done by the user who has got maximum reputation.\n"
   ]
  },
  {
   "cell_type": "code",
   "execution_count": 15,
   "id": "1b9e0757",
   "metadata": {},
   "outputs": [
    {
     "name": "stdout",
     "output_type": "stream",
     "text": [
      "'Jon Skeet' has highest reputaion of '736381' and overall he '765' commented on other post \n"
     ]
    }
   ],
   "source": [
    "# Find the display name and no. of comments done by the user who has got maximum reputation.\n",
    "data1 = pd.read_csv(\"Dataset/users.csv\")\n",
    "data2 = pd.read_csv(\"Dataset/comments.csv\")\n",
    "df = data1.copy()\n",
    "df1 = data2.copy()\n",
    "\n",
    "#max reputation\n",
    "rep = df.reputation.max()\n",
    "# user name\n",
    "name = np.array(df.displayname[df.reputation == rep])\n",
    "for i in name:\n",
    "    name = i\n",
    "#user id\n",
    "user_id= np.array(df.userid[df.displayname == name])\n",
    "for i in user_id:\n",
    "    user_id = i\n",
    "\n",
    "# number of comments\n",
    "comm = len(np.array(df1.userid[df1.userid == user_id]))\n",
    "\n",
    "print(f\"'{name}' has highest reputaion of '{rep}' and overall he '{comm}' commented on other post \" )"
   ]
  },
  {
   "cell_type": "markdown",
   "id": "bf0a7e0e",
   "metadata": {},
   "source": [
    "### Find the display name of user who has created maximum no. of posts on Stack Overflow. Overflow.\n"
   ]
  },
  {
   "cell_type": "code",
   "execution_count": 11,
   "id": "0f0076ed",
   "metadata": {
    "scrolled": true
   },
   "outputs": [
    {
     "name": "stdout",
     "output_type": "stream",
     "text": [
      " 'aku' has created maximum no. of posts on Stack Overflow\n"
     ]
    }
   ],
   "source": [
    "# Find the display name of user who has created maximum no. of posts on Stack Overflow. Overflow\n",
    "data1 = pd.read_csv(\"Dataset/users.csv\")\n",
    "data2 = pd.read_csv(\"Dataset/post.csv\")\n",
    "df = data1.copy()\n",
    "df1 = data2.copy()\n",
    "\n",
    "max_com = df1.userid.value_counts().index.tolist()[0]\n",
    "user_name = np.array(df.displayname[df.userid == max_com ])\n",
    "for i in user_name:\n",
    "    print(f\" '{i}' has created maximum no. of posts on Stack Overflow\")\n"
   ]
  },
  {
   "cell_type": "markdown",
   "id": "8e01220d",
   "metadata": {},
   "source": [
    "### Find the owner name and id of user whose post has got maximum no. of view counts so far.\n"
   ]
  },
  {
   "cell_type": "code",
   "execution_count": 18,
   "id": "b453a427",
   "metadata": {},
   "outputs": [
    {
     "name": "stdout",
     "output_type": "stream",
     "text": [
      "'Shadow_x99' has got maximum no. of view counts\n"
     ]
    }
   ],
   "source": [
    "# Find the owner name and id of user whose post has got maximum no. of view counts so far.\n",
    "data1 = pd.read_csv(\"Dataset/users.csv\")\n",
    "data2 = pd.read_csv(\"Dataset/post.csv\")\n",
    "df = data1.copy()\n",
    "df1 = data2.copy()\n",
    "\n",
    "max_view = df1.viewcount.fillna(0.0,inplace = True)\n",
    "max_view = df1.viewcount.max()\n",
    "user_id = np.array(df1.userid[df1.viewcount == max_view])\n",
    "#user_id\n",
    "for i in user_id:\n",
    "    user_id = i\n",
    "\n",
    "user_name = np.array(df.displayname[df.userid == user_id])\n",
    "for i in user_name:\n",
    "    print(f\"'{i}' has got maximum no. of view counts\")\n"
   ]
  },
  {
   "cell_type": "markdown",
   "id": "c0b9ddfa",
   "metadata": {},
   "source": [
    "### Find the title and owner name of post who has got maximum no. of Comment count.\n"
   ]
  },
  {
   "cell_type": "code",
   "execution_count": 25,
   "id": "663be0ad",
   "metadata": {},
   "outputs": [
    {
     "data": {
      "text/plain": [
       "count     50000\n",
       "unique      116\n",
       "top           0\n",
       "freq      35740\n",
       "Name: commentcount, dtype: int64"
      ]
     },
     "execution_count": 25,
     "metadata": {},
     "output_type": "execute_result"
    }
   ],
   "source": [
    "# Find the title and owner name of post who has got maximum no. of Comment count.\n",
    "data1 = pd.read_csv(\"Dataset/users.csv\")\n",
    "data2 = pd.read_csv(\"Dataset/post.csv\")\n",
    "df = data1.copy()\n",
    "df1 = data2.copy()\n",
    "\n",
    "df1.commentcount.fillna(0,inplace= True)\n",
    "df1[df1.commentcount.astype(str).str.isdigit()]\n",
    "df1.commentcount.describe()\n",
    "# max_com = pd.DataFrame(df1.commentcount)\n",
    "# max_com.value_counts().head(50)\n",
    "#pd.max(df1.commentcount)\n",
    "# max_comm = pd.DataFrame(df1.commentcount)\n",
    "# max_comm = max_comm.dropna()\n",
    "# max_comm = max_comm.max()\n",
    "#df1.commentcount\n",
    "#df1.commentcount.isnull().sum()\n",
    "#max_view_com = df1.commentcount.max()\n",
    "#max_view_com\n",
    "\n"
   ]
  },
  {
   "cell_type": "markdown",
   "id": "c2e27412",
   "metadata": {},
   "source": [
    "### Find the location which has maximum no of Stack Overflow users.\n"
   ]
  },
  {
   "cell_type": "code",
   "execution_count": 27,
   "id": "347d2e42",
   "metadata": {},
   "outputs": [
    {
     "name": "stdout",
     "output_type": "stream",
     "text": [
      " maximum no of Stack Overflow users 'United States    2452\n",
      "Name: location, dtype: int64'\n"
     ]
    }
   ],
   "source": [
    "#method 1\n",
    "data = pd.read_csv(\"Dataset/users.csv\")\n",
    "df = data.copy()\n",
    "\n",
    "print(f\" maximum no of Stack Overflow users '{df.location.value_counts()[:1]}'\")"
   ]
  },
  {
   "cell_type": "code",
   "execution_count": 28,
   "id": "40b86c2c",
   "metadata": {},
   "outputs": [
    {
     "name": "stdout",
     "output_type": "stream",
     "text": [
      " maximum no of Stack Overflow users 'United States    2452\n",
      "dtype: int64'\n"
     ]
    }
   ],
   "source": [
    "# method 2\n",
    "data = pd.read_csv(\"Dataset/users.csv\")\n",
    "df = data.copy()\n",
    "locate = pd.DataFrame(df.location.dropna())\n",
    "np_locate = np.array(locate)\n",
    "\n",
    "for i in range(len(np_locate)):\n",
    "    if 'United States' in np_locate[i]:\n",
    "        np_locate[i] = 'United States'\n",
    "    if 'India' in np_locate[i]:\n",
    "        np_locate[i] = 'India'\n",
    "    if 'Australia' in np_locate[i]:\n",
    "        np_locate[i] = 'Australia'\n",
    "    if 'United Kingdom' in np_locate[i]:\n",
    "        np_locate[i] = 'United Kingdom'\n",
    "        \n",
    "pd_loc = pd.DataFrame(np_locate)\n",
    "\n",
    "print(f\" maximum no of Stack Overflow users '{pd_loc.value_counts()[:1]}'\")"
   ]
  },
  {
   "cell_type": "markdown",
   "id": "55b33780",
   "metadata": {},
   "source": [
    "### Find the total no. of answers, posts, comments created by Indian users.\n"
   ]
  },
  {
   "cell_type": "code",
   "execution_count": 30,
   "id": "4f5a6fab",
   "metadata": {},
   "outputs": [
    {
     "name": "stdout",
     "output_type": "stream",
     "text": [
      "150\n"
     ]
    }
   ],
   "source": [
    "data2 = pd.read_csv(\"Dataset/comments.csv\")\n",
    "df1 = data2.copy()\n",
    "data3 = pd.read_csv(\"Dataset/post.csv\")\n",
    "df2 = data3.copy()\n",
    "\n",
    "def total_ans(arr):\n",
    "    comm = 0\n",
    "    for i in arr:\n",
    "        comm += len(np.array(df1.userid[df1.userid == i]))\n",
    "    print(comm)\n",
    "    \n",
    "\n",
    "# def total_post(arr):\n",
    "#     pos = 0\n",
    "#     for i in arr:\n",
    "#         max_com = df2.userid[df]\n",
    "        \n",
    "\n",
    "\n",
    "data = pd.read_csv(\"Dataset/users.csv\")\n",
    "df = data.copy()\n",
    "\n",
    "df.location.fillna('',inplace = True)\n",
    "df.location.isnull().sum()\n",
    "user_id = np.array(df.userid[df.location == 'India'],dtype = \"int64\")\n",
    "    \n",
    "total_ans(user_id)\n",
    "\n"
   ]
  }
 ],
 "metadata": {
  "kernelspec": {
   "display_name": "Python 3",
   "language": "python",
   "name": "python3"
  },
  "language_info": {
   "codemirror_mode": {
    "name": "ipython",
    "version": 3
   },
   "file_extension": ".py",
   "mimetype": "text/x-python",
   "name": "python",
   "nbconvert_exporter": "python",
   "pygments_lexer": "ipython3",
   "version": "3.8.10"
  }
 },
 "nbformat": 4,
 "nbformat_minor": 5
}
