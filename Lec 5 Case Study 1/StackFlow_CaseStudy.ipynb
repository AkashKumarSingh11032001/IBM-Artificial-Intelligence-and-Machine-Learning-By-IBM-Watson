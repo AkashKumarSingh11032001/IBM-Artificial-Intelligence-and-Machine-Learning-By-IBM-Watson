{
 "cells": [
  {
   "cell_type": "markdown",
   "id": "7e0ab9ce",
   "metadata": {},
   "source": [
    "# StackFlow_CaseStudy"
   ]
  },
  {
   "cell_type": "code",
   "execution_count": 3,
   "id": "77cc2b68",
   "metadata": {},
   "outputs": [],
   "source": [
    "import pandas as pd\n",
    "import numpy as np\n",
    "import matplotlib.pyplot as plt\n",
    "import csv"
   ]
  },
  {
   "cell_type": "markdown",
   "id": "6831a4f7",
   "metadata": {},
   "source": [
    "### Find the display name and no. of posts created by the user who has got maximum reputation.\n"
   ]
  },
  {
   "cell_type": "code",
   "execution_count": 12,
   "id": "33792cb1",
   "metadata": {},
   "outputs": [
    {
     "name": "stdout",
     "output_type": "stream",
     "text": [
      "'Jon Skeet' have highest reputation of '736381' and have used id '22656' and total published post is '1' \n"
     ]
    }
   ],
   "source": [
    "data1 = pd.read_csv(\"Dataset/users.csv\")\n",
    "data2 = pd.read_csv(\"Dataset/post.csv\")\n",
    "df = data1.copy()\n",
    "rep = df.reputation.max()\n",
    "name = np.array(df.displayname[df.reputation == rep])\n",
    "for i in name:\n",
    "    name = i\n",
    "    \n",
    "user_id= np.array(df.userid[df.displayname == name])\n",
    "for i in user_id:\n",
    "    user_id = i\n",
    "    \n",
    "num_post = len(np.array(df.userid[df.userid == user_id]))  \n",
    "\n",
    "print(f\"'{name}' have highest reputation of '{rep}' and have used id '{user_id}' and total published post is '{num_post}' \")"
   ]
  },
  {
   "cell_type": "code",
   "execution_count": 17,
   "id": "07ce69e1",
   "metadata": {},
   "outputs": [
    {
     "name": "stdout",
     "output_type": "stream",
     "text": [
      "['Jon Skeet']\n",
      "1\n"
     ]
    }
   ],
   "source": [
    "# *** Ma'am methods ***\n",
    "\n",
    "\n",
    "df_user = pd.read_csv(\"Dataset/users.csv\")\n",
    "\n",
    "df_post =  pd.read_csv(\"Dataset/post.csv\")\n",
    "\n",
    "df_comment = pd.read_csv(\"Dataset/comments.csv\")\n",
    "\n",
    "#print (df_users, shape)\n",
    "\n",
    "#print(df posts, shape) #50000, 13\n",
    "\n",
    "# df_comments.head()\n",
    "# df_user.head()\n",
    "\n",
    "# merging\n",
    "df_user_post = pd.merge(df_user,df_post,on= \"userid\",how=\"inner\")\n",
    "# df_user_post\n",
    "# df_user_post.columns\n",
    "df_user_post[\"reputation\"].max()\n",
    "df_max_rep = df_user_post.query('reputation==736381')\n",
    "df_max_rep\n",
    "\n",
    "print(df_max_rep[\"displayname\"].unique())\n",
    "print(df_max_rep[\"id\"].nunique())"
   ]
  },
  {
   "cell_type": "markdown",
   "id": "551563f3",
   "metadata": {},
   "source": [
    "### Find the average age of users on the Stack Overflow site.\n"
   ]
  },
  {
   "cell_type": "code",
   "execution_count": 13,
   "id": "bbbf52a8",
   "metadata": {},
   "outputs": [
    {
     "name": "stdout",
     "output_type": "stream",
     "text": [
      "average age of users '35.263352397712275'\n"
     ]
    }
   ],
   "source": [
    "# Find the average age of users on the Stack Overflow site.\n",
    "\n",
    "data = pd.read_csv(\"Dataset/users.csv\")\n",
    "df = data.copy()\n",
    "#df.age.fillna(0.0)\n",
    "men = df.age.mean(axis=0,skipna = True)\n",
    "print(f\"average age of users '{men}'\")\n",
    "\n"
   ]
  },
  {
   "cell_type": "markdown",
   "id": "62b799e2",
   "metadata": {},
   "source": [
    "### Find the display name of user who posted the oldest post on Stack Overflow (in terms of date).\n"
   ]
  },
  {
   "cell_type": "code",
   "execution_count": 54,
   "id": "75ebedc2",
   "metadata": {},
   "outputs": [
    {
     "name": "stdout",
     "output_type": "stream",
     "text": [
      "Kevin Dente have oldest post on Stack Overflow '01-08-2008 00:42'\n"
     ]
    }
   ],
   "source": [
    "# Find the display name of user who posted the oldest post on Stack Overflow (in terms of date).\n",
    "data1 = pd.read_csv(\"Dataset/users.csv\")\n",
    "data2 = pd.read_csv(\"Dataset/post.csv\")\n",
    "df1 = data1.copy()\n",
    "df2 = data2.copy()\n",
    "#user_name_np = np.array()\n",
    "user_name = pd.DataFrame(df1.displayname)\n",
    "\n",
    "post_date = pd.DataFrame(df2.creationdate)\n",
    "post_date = min(df2['creationdate'])\n",
    "\n",
    "#post_date['creationdate'] =post_date['creationdate'].astype('datetime64[ns]')\n",
    "user_id = np.array(df2.userid[df2.creationdate == min(df2['creationdate'])])\n",
    "for i in user_id:\n",
    "    user_id = i\n",
    "    \n",
    "    \n",
    "user_name = np.array(df1.displayname[df1.userid == user_id])\n",
    "for i in user_name:\n",
    "    user_name = i\n",
    "\n",
    "print(f\"{user_name} have oldest post on Stack Overflow '{post_date}'\")"
   ]
  },
  {
   "cell_type": "code",
   "execution_count": 14,
   "id": "dfa5f5dd",
   "metadata": {},
   "outputs": [
    {
     "name": "stdout",
     "output_type": "stream",
     "text": [
      "01-08-2008 00:42\n"
     ]
    },
    {
     "data": {
      "text/plain": [
       "array(['Kevin Dente'], dtype=object)"
      ]
     },
     "execution_count": 14,
     "metadata": {},
     "output_type": "execute_result"
    }
   ],
   "source": [
    "# *** Ma'am methods ***\n",
    "oldest_post = df_user_post[\"creationdate\"].min()\n",
    "\n",
    "print(oldest_post)\n",
    "\n",
    "#df_filtered = df.query(['creationdate'] == '1/8/2008 05:21')\n",
    "\n",
    "df_filtered = df_user_post[(df_user_post.creationdate=='01-08-2008 00:42')]\n",
    "\n",
    "df_filtered\n",
    "\n",
    "df_filtered['displayname'].unique()"
   ]
  },
  {
   "cell_type": "markdown",
   "id": "a1a58632",
   "metadata": {},
   "source": [
    "### Find the display name and no. of comments done by the user who has got maximum reputation.\n"
   ]
  },
  {
   "cell_type": "code",
   "execution_count": 15,
   "id": "1b9e0757",
   "metadata": {
    "scrolled": true
   },
   "outputs": [
    {
     "name": "stdout",
     "output_type": "stream",
     "text": [
      "'Jon Skeet' has highest reputaion of '736381' and overall he '765' commented on other post \n"
     ]
    }
   ],
   "source": [
    "# Find the display name and no. of comments done by the user who has got maximum reputation.\n",
    "data1 = pd.read_csv(\"Dataset/users.csv\")\n",
    "data2 = pd.read_csv(\"Dataset/comments.csv\")\n",
    "df = data1.copy()\n",
    "df1 = data2.copy()\n",
    "\n",
    "#max reputation\n",
    "rep = df.reputation.max()\n",
    "# user name\n",
    "name = np.array(df.displayname[df.reputation == rep])\n",
    "for i in name:\n",
    "    name = i\n",
    "#user id\n",
    "user_id= np.array(df.userid[df.displayname == name])\n",
    "for i in user_id:\n",
    "    user_id = i\n",
    "\n",
    "# number of comments\n",
    "comm = len(np.array(df1.userid[df1.userid == user_id]))\n",
    "\n",
    "print(f\"'{name}' has highest reputaion of '{rep}' and overall he '{comm}' commented on other post \" )"
   ]
  },
  {
   "cell_type": "markdown",
   "id": "bf0a7e0e",
   "metadata": {},
   "source": [
    "### Find the display name of user who has created maximum no. of posts on Stack Overflow. Overflow.\n"
   ]
  },
  {
   "cell_type": "code",
   "execution_count": 16,
   "id": "0f0076ed",
   "metadata": {
    "scrolled": true
   },
   "outputs": [
    {
     "name": "stdout",
     "output_type": "stream",
     "text": [
      " 'aku' has created 1196 maximum no. of posts on Stack Overflow\n"
     ]
    }
   ],
   "source": [
    "# Find the display name of user who has created maximum no. of posts on Stack Overflow. Overflow\n",
    "data1 = pd.read_csv(\"Dataset/users.csv\")\n",
    "data2 = pd.read_csv(\"Dataset/post.csv\")\n",
    "df = data1.copy()\n",
    "df1 = data2.copy()\n",
    "\n",
    "user_id = df1.userid.value_counts().index.tolist()[0]\n",
    "user_name = np.array(df.displayname[df.userid == user_id ])\n",
    "for i in user_name:\n",
    "    print(f\" '{i}' has created maximum no. of posts on Stack Overflow\")\n"
   ]
  },
  {
   "cell_type": "markdown",
   "id": "8e01220d",
   "metadata": {},
   "source": [
    "### Find the owner name and id of user whose post has got maximum no. of view counts so far.\n"
   ]
  },
  {
   "cell_type": "code",
   "execution_count": 18,
   "id": "b453a427",
   "metadata": {},
   "outputs": [
    {
     "name": "stdout",
     "output_type": "stream",
     "text": [
      "'Shadow_x99' has got maximum no. of view counts\n"
     ]
    }
   ],
   "source": [
    "# Find the owner name and id of user whose post has got maximum no. of view counts so far.\n",
    "data1 = pd.read_csv(\"Dataset/users.csv\")\n",
    "data2 = pd.read_csv(\"Dataset/post.csv\")\n",
    "df = data1.copy()\n",
    "df1 = data2.copy()\n",
    "\n",
    "max_view = df1.viewcount.fillna(0.0,inplace = True)\n",
    "max_view = df1.viewcount.max()\n",
    "user_id = np.array(df1.userid[df1.viewcount == max_view])\n",
    "#user_id\n",
    "for i in user_id:\n",
    "    user_id = i\n",
    "\n",
    "user_name = np.array(df.displayname[df.userid == user_id])\n",
    "for i in user_name:\n",
    "    print(f\"'{i}' has got maximum no. of view counts\")\n"
   ]
  },
  {
   "cell_type": "markdown",
   "id": "c0b9ddfa",
   "metadata": {},
   "source": [
    "### Find the title and owner name of post who has got maximum no. of Comment count.\n"
   ]
  },
  {
   "cell_type": "code",
   "execution_count": 26,
   "id": "663be0ad",
   "metadata": {},
   "outputs": [
    {
     "data": {
      "text/html": [
       "<div>\n",
       "<style scoped>\n",
       "    .dataframe tbody tr th:only-of-type {\n",
       "        vertical-align: middle;\n",
       "    }\n",
       "\n",
       "    .dataframe tbody tr th {\n",
       "        vertical-align: top;\n",
       "    }\n",
       "\n",
       "    .dataframe thead th {\n",
       "        text-align: right;\n",
       "    }\n",
       "</style>\n",
       "<table border=\"1\" class=\"dataframe\">\n",
       "  <thead>\n",
       "    <tr style=\"text-align: right;\">\n",
       "      <th></th>\n",
       "      <th>displayname</th>\n",
       "      <th>userid</th>\n",
       "      <th>id</th>\n",
       "    </tr>\n",
       "  </thead>\n",
       "  <tbody>\n",
       "    <tr>\n",
       "      <th>2096</th>\n",
       "      <td>Justin Standard</td>\n",
       "      <td>92</td>\n",
       "      <td>1713</td>\n",
       "    </tr>\n",
       "  </tbody>\n",
       "</table>\n",
       "</div>"
      ],
      "text/plain": [
       "          displayname  userid    id\n",
       "2096  Justin Standard      92  1713"
      ]
     },
     "execution_count": 26,
     "metadata": {},
     "output_type": "execute_result"
    }
   ],
   "source": [
    "# Find the title and owner name of post who has got maximum no. of Comment count.\n",
    "data1 = pd.read_csv(\"Dataset/users.csv\")\n",
    "data2 = pd.read_csv(\"Dataset/post.csv\")\n",
    "df = data1.copy()\n",
    "df1 = data2.copy()\n",
    "\n",
    "\n",
    "df_user_post.commentcount = pd.to_numeric(df_user_post.commentcount, errors='coerce')\n",
    "a = df_user_post.commentcount.max()\n",
    "max_comm = df_user_post.query(\"commentcount == @a\")\n",
    "max_comm[[\"displayname\",\"userid\",\"id\"]]\n"
   ]
  },
  {
   "cell_type": "markdown",
   "id": "c2e27412",
   "metadata": {},
   "source": [
    "### Find the location which has maximum no of Stack Overflow users.\n"
   ]
  },
  {
   "cell_type": "code",
   "execution_count": 31,
   "id": "347d2e42",
   "metadata": {},
   "outputs": [
    {
     "data": {
      "text/plain": [
       "(50000, 5)"
      ]
     },
     "execution_count": 31,
     "metadata": {},
     "output_type": "execute_result"
    }
   ],
   "source": [
    "#method 1 wrong\n",
    "data = pd.read_csv(\"Dataset/users.csv\")\n",
    "df = data.copy()\n",
    "#df.shape\n",
    "\n",
    "print(f\" maximum no of Stack Overflow users '{df.location.value_counts()[:1]}'\")"
   ]
  },
  {
   "cell_type": "code",
   "execution_count": 28,
   "id": "40b86c2c",
   "metadata": {},
   "outputs": [
    {
     "name": "stdout",
     "output_type": "stream",
     "text": [
      " maximum no of Stack Overflow users 'United States    2452\n",
      "dtype: int64'\n"
     ]
    }
   ],
   "source": [
    "# method 2 wrong\n",
    "data = pd.read_csv(\"Dataset/users.csv\")\n",
    "df = data.copy()\n",
    "locate = pd.DataFrame(df.location.dropna())\n",
    "np_locate = np.array(locate)\n",
    "\n",
    "for i in range(len(np_locate)):\n",
    "    if 'United States' in np_locate[i]:\n",
    "        np_locate[i] = 'United States'\n",
    "    if 'India' in np_locate[i]:\n",
    "        np_locate[i] = 'India'\n",
    "    if 'Australia' in np_locate[i]:\n",
    "        np_locate[i] = 'Australia'\n",
    "    if 'United Kingdom' in np_locate[i]:\n",
    "        np_locate[i] = 'United Kingdom'\n",
    "        \n",
    "pd_loc = pd.DataFrame(np_locate)\n",
    "\n",
    "print(f\" maximum no of Stack Overflow users '{pd_loc.value_counts()[:1]}'\")"
   ]
  },
  {
   "cell_type": "code",
   "execution_count": 28,
   "id": "60e9df77",
   "metadata": {},
   "outputs": [
    {
     "data": {
      "text/plain": [
       "location\n",
       "United States                6225\n",
       "United Kingdom               2831\n",
       "Australia                    1226\n",
       "London United Kingdom        1177\n",
       "San Francisco CA              977\n",
       "                             ... \n",
       "New Prague MN                   1\n",
       "New Mexico                      1\n",
       "New Lenox IL                    1\n",
       "Cumberland RI                   1\n",
       "Chichester United Kingdom       1\n",
       "Name: userid, Length: 1124, dtype: int64"
      ]
     },
     "execution_count": 28,
     "metadata": {},
     "output_type": "execute_result"
    }
   ],
   "source": [
    "# ma'am right method\n",
    "max_user = df_user_post.groupby('location')['userid'].count().sort_values (ascending=False)\n",
    "\n",
    "max_user"
   ]
  },
  {
   "cell_type": "markdown",
   "id": "55b33780",
   "metadata": {},
   "source": [
    "### Find the total no. of answers, posts, comments created by Indian users.\n"
   ]
  },
  {
   "cell_type": "code",
   "execution_count": 30,
   "id": "4f5a6fab",
   "metadata": {
    "scrolled": true
   },
   "outputs": [
    {
     "name": "stdout",
     "output_type": "stream",
     "text": [
      "150\n"
     ]
    }
   ],
   "source": [
    "data2 = pd.read_csv(\"Dataset/comments.csv\")\n",
    "df1 = data2.copy()\n",
    "data3 = pd.read_csv(\"Dataset/post.csv\")\n",
    "df2 = data3.copy()\n",
    "\n",
    "def total_ans(arr):\n",
    "    comm = 0\n",
    "    for i in arr:\n",
    "        comm += len(np.array(df1.userid[df1.userid == i]))\n",
    "    print(comm)\n",
    "    \n",
    "\n",
    "# def total_post(arr):\n",
    "#     pos = 0\n",
    "#     for i in arr:\n",
    "#         max_com = df2.userid[df]\n",
    "        \n",
    "\n",
    "\n",
    "data = pd.read_csv(\"Dataset/users.csv\")\n",
    "df = data.copy()\n",
    "\n",
    "df.location.fillna('',inplace = True)\n",
    "df.location.isnull().sum()\n",
    "user_id = np.array(df.userid[df.location == 'India'],dtype = \"int64\")\n",
    "    \n",
    "total_ans(user_id)\n",
    "\n"
   ]
  },
  {
   "cell_type": "code",
   "execution_count": 37,
   "id": "fc5b453b",
   "metadata": {},
   "outputs": [
    {
     "ename": "SyntaxError",
     "evalue": "invalid syntax (<ipython-input-37-b94862909860>, line 8)",
     "output_type": "error",
     "traceback": [
      "\u001b[1;36m  File \u001b[1;32m\"<ipython-input-37-b94862909860>\"\u001b[1;36m, line \u001b[1;32m8\u001b[0m\n\u001b[1;33m    print(f\"total answer count => {df_indian_users[\"answercount\"].sum()}\")\u001b[0m\n\u001b[1;37m                                                    ^\u001b[0m\n\u001b[1;31mSyntaxError\u001b[0m\u001b[1;31m:\u001b[0m invalid syntax\n"
     ]
    }
   ],
   "source": [
    "bb=df_user_post[df_user_post['location'].str. contains (\"India\") ==True]\n",
    "bb\n",
    "\n",
    "df_indian_users = bb[bb['location'] != 'Indianapolis IN']\n",
    "df_indian_users[\"answercount\"].sum\n",
    "\n",
    "df_indian_users[\"answercount\"]= pd.to_numeric(df_indian_users[\"answercount\"],error = 'coerce').sum()\n",
    "print(f\"total answer count => {df_indian_users[\"answercount\"].sum()}\")\n",
    "\n",
    "print(f\"total answer count => {df_indian_users[\"id\"].nunique()}\")\n",
    "\n",
    "df_india = pd.merge(df_indian_users,df,on=\"userid\",how=\"inner\")\n",
    "print(f\"total comments {df_india[\"comment\"].nunique()}\")\n"
   ]
  }
 ],
 "metadata": {
  "kernelspec": {
   "display_name": "Python 3",
   "language": "python",
   "name": "python3"
  },
  "language_info": {
   "codemirror_mode": {
    "name": "ipython",
    "version": 3
   },
   "file_extension": ".py",
   "mimetype": "text/x-python",
   "name": "python",
   "nbconvert_exporter": "python",
   "pygments_lexer": "ipython3",
   "version": "3.8.10"
  }
 },
 "nbformat": 4,
 "nbformat_minor": 5
}
