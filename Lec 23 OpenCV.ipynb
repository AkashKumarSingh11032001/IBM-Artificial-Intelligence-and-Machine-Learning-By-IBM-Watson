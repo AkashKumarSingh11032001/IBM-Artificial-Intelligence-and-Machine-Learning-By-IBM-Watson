{
 "cells": [
  {
   "cell_type": "markdown",
   "id": "a26a1811",
   "metadata": {},
   "source": [
    "# Open CV"
   ]
  },
  {
   "cell_type": "code",
   "execution_count": 2,
   "id": "dd5422fa",
   "metadata": {},
   "outputs": [],
   "source": [
    "import cv2"
   ]
  },
  {
   "cell_type": "code",
   "execution_count": 3,
   "id": "42db2a79",
   "metadata": {},
   "outputs": [
    {
     "name": "stdout",
     "output_type": "stream",
     "text": [
      "(421, 750, 3)\n",
      "Width pixel values:  421\n",
      "Height pixel values : 750\n",
      "Width pixel values: 3\n"
     ]
    }
   ],
   "source": [
    "\n",
    "img= cv2.imread('snake.png')\n",
    "\n",
    "cv2.imshow('output',img)\n",
    "cv2.waitKey(0) \n",
    "cv2.destroyAllWindows() \n",
    "print(img.shape)\n",
    "\n",
    "print(\"Width pixel values: \", img.shape[0])\n",
    "print(\"Height pixel values :\",  img.shape[1])\n",
    "print(\"Width pixel values:\", img.shape[2])"
   ]
  },
  {
   "cell_type": "code",
   "execution_count": 6,
   "id": "72f5d7a7",
   "metadata": {},
   "outputs": [
    {
     "name": "stdout",
     "output_type": "stream",
     "text": [
      "(421, 750, 3)\n",
      "(421, 750)\n"
     ]
    },
    {
     "ename": "AttributeError",
     "evalue": "module 'cv2.cv2' has no attribute 'destroyALLwindows'",
     "output_type": "error",
     "traceback": [
      "\u001b[1;31m---------------------------------------------------------------------------\u001b[0m",
      "\u001b[1;31mAttributeError\u001b[0m                            Traceback (most recent call last)",
      "\u001b[1;32m<ipython-input-6-1304872bc249>\u001b[0m in \u001b[0;36m<module>\u001b[1;34m\u001b[0m\n\u001b[0;32m     16\u001b[0m \u001b[1;33m\u001b[0m\u001b[0m\n\u001b[0;32m     17\u001b[0m \u001b[1;31m#clear all windows\u001b[0m\u001b[1;33m\u001b[0m\u001b[1;33m\u001b[0m\u001b[1;33m\u001b[0m\u001b[0m\n\u001b[1;32m---> 18\u001b[1;33m \u001b[0mcv2\u001b[0m\u001b[1;33m.\u001b[0m\u001b[0mdestroyALLwindows\u001b[0m\u001b[1;33m(\u001b[0m\u001b[1;33m)\u001b[0m\u001b[1;33m\u001b[0m\u001b[1;33m\u001b[0m\u001b[0m\n\u001b[0m",
      "\u001b[1;31mAttributeError\u001b[0m: module 'cv2.cv2' has no attribute 'destroyALLwindows'"
     ]
    }
   ],
   "source": [
    "#Example of converting RGB mage into gray scale:\n",
    "\n",
    "img= cv2.imread('snake.png') \n",
    "print(img.shape)\n",
    "\n",
    "cv2.imshow(\"original\",img) \n",
    "cv2.waitKey(8)\n",
    "gray_img= cv2.cvtColor(img, cv2.COLOR_BGR2GRAY)\n",
    "print(gray_img.shape)\n",
    "\n",
    "# for showing image \n",
    "cv2.imshow(\"Grayscale Image\", gray_img)\n",
    "\n",
    "# for holding image\n",
    "cv2.waitKey(0)\n",
    "\n",
    "#clear all windows\n",
    "cv2.destroyALLwindows()"
   ]
  },
  {
   "cell_type": "code",
   "execution_count": 8,
   "id": "ad796c1e",
   "metadata": {},
   "outputs": [
    {
     "name": "stdout",
     "output_type": "stream",
     "text": [
      "(421, 750, 3)\n"
     ]
    }
   ],
   "source": [
    "#Example of converting RGB image into HSV import cv2 Color space:\n",
    "\n",
    "img= cv2.imread('snake.png') \n",
    "img_HSV = cv2.cvtColor(img, cv2.COLOR_BGR2HSV)\n",
    "print(img_HSV.shape)\n",
    "\n",
    "cv2.imshow('HSVImage', img_HSV)\n",
    "cv2.imshow('HueChannel', img_HSV[:, :,0]) \n",
    "cv2.imshow('Saturation Channel', img_HSV[:, :,1])\n",
    "cv2.imshow('ValueChannel', img_HSV[:, :,2])\n",
    "\n",
    "cv2.waitKey(0)\n",
    "cv2.destroyAllWindows()"
   ]
  },
  {
   "cell_type": "code",
   "execution_count": 12,
   "id": "dc560043",
   "metadata": {},
   "outputs": [
    {
     "ename": "error",
     "evalue": "OpenCV(4.5.2) :-1: error: (-5:Bad argument) in function 'imshow'\n> Overload resolution failed:\n>  - imshow() missing required argument 'mat' (pos 2)\n>  - imshow() missing required argument 'mat' (pos 2)\n>  - imshow() missing required argument 'mat' (pos 2)\n",
     "output_type": "error",
     "traceback": [
      "\u001b[1;31m---------------------------------------------------------------------------\u001b[0m",
      "\u001b[1;31merror\u001b[0m                                     Traceback (most recent call last)",
      "\u001b[1;32m<ipython-input-12-b548a2bf8271>\u001b[0m in \u001b[0;36m<module>\u001b[1;34m\u001b[0m\n\u001b[0;32m     10\u001b[0m \u001b[1;33m\u001b[0m\u001b[0m\n\u001b[0;32m     11\u001b[0m \u001b[0mrotated_image\u001b[0m\u001b[1;33m=\u001b[0m \u001b[0mcv2\u001b[0m\u001b[1;33m.\u001b[0m\u001b[0mwarpAffine\u001b[0m \u001b[1;33m(\u001b[0m\u001b[0mimg\u001b[0m\u001b[1;33m,\u001b[0m \u001b[0mrotation_matrix\u001b[0m\u001b[1;33m,\u001b[0m \u001b[1;33m(\u001b[0m\u001b[0mwidth\u001b[0m\u001b[1;33m,\u001b[0m\u001b[0mheight\u001b[0m\u001b[1;33m)\u001b[0m\u001b[1;33m)\u001b[0m\u001b[1;33m\u001b[0m\u001b[1;33m\u001b[0m\u001b[0m\n\u001b[1;32m---> 12\u001b[1;33m \u001b[0mcv2\u001b[0m\u001b[1;33m.\u001b[0m\u001b[0mimshow\u001b[0m\u001b[1;33m(\u001b[0m\u001b[1;34m'Rotated Image, rotated_image'\u001b[0m\u001b[1;33m)\u001b[0m\u001b[1;33m\u001b[0m\u001b[1;33m\u001b[0m\u001b[0m\n\u001b[0m\u001b[0;32m     13\u001b[0m \u001b[0mcv2\u001b[0m\u001b[1;33m.\u001b[0m\u001b[0mimshow\u001b[0m\u001b[1;33m(\u001b[0m\u001b[1;34m'Original image'\u001b[0m\u001b[1;33m,\u001b[0m \u001b[0mimg\u001b[0m\u001b[1;33m)\u001b[0m\u001b[1;33m\u001b[0m\u001b[1;33m\u001b[0m\u001b[0m\n\u001b[0;32m     14\u001b[0m \u001b[0mcv2\u001b[0m\u001b[1;33m.\u001b[0m\u001b[0mwaitKey\u001b[0m\u001b[1;33m(\u001b[0m\u001b[1;36m0\u001b[0m\u001b[1;33m)\u001b[0m\u001b[1;33m\u001b[0m\u001b[1;33m\u001b[0m\u001b[0m\n",
      "\u001b[1;31merror\u001b[0m: OpenCV(4.5.2) :-1: error: (-5:Bad argument) in function 'imshow'\n> Overload resolution failed:\n>  - imshow() missing required argument 'mat' (pos 2)\n>  - imshow() missing required argument 'mat' (pos 2)\n>  - imshow() missing required argument 'mat' (pos 2)\n"
     ]
    }
   ],
   "source": [
    "import cv2\n",
    "\n",
    "import numpy as np\n",
    "\n",
    "img = cv2.imread(\"snake.png\")\n",
    "\n",
    "height,width = img.shape[:2]\n",
    "\n",
    "rotation_matrix = cv2.getRotationMatrix2D((width/2,height/2), 90, .7)\n",
    "\n",
    "rotated_image= cv2.warpAffine (img, rotation_matrix, (width,height)) \n",
    "cv2.imshow('Rotated Image, rotated_image')\n",
    "cv2.imshow('Original image', img)                                                                                \n",
    "cv2.waitKey(0)\n",
    "\n",
    "cv2.destroyAllWindows()"
   ]
  },
  {
   "cell_type": "code",
   "execution_count": null,
   "id": "3d4d988e",
   "metadata": {},
   "outputs": [],
   "source": [
    "import cv2\n",
    "\n",
    "import matplotlib.pyplot as plt\n",
    "\n",
    "cap = cv2.VideoCapture (0)\n",
    "\n",
    "if cap.isOpened():\n",
    "\n",
    "ret, frame = cap.read()\n",
    "\n",
    "else:\n",
    "\n",
    "ret = False\n",
    "\n",
    "img=cv2.cvt Color (frame, cv2.COLOR_BGR2RGB)\n",
    "\n",
    "plt.imshow(img)\n",
    "\n",
    "plt.title(\"camera image\")\n",
    "\n",
    "plt.xticks([])\n",
    "\n",
    "plt.yticks([])\n",
    "\n",
    "plt.show()\n",
    "\n",
    "cap.release()"
   ]
  }
 ],
 "metadata": {
  "kernelspec": {
   "display_name": "Python 3",
   "language": "python",
   "name": "python3"
  },
  "language_info": {
   "codemirror_mode": {
    "name": "ipython",
    "version": 3
   },
   "file_extension": ".py",
   "mimetype": "text/x-python",
   "name": "python",
   "nbconvert_exporter": "python",
   "pygments_lexer": "ipython3",
   "version": "3.8.8"
  }
 },
 "nbformat": 4,
 "nbformat_minor": 5
}
