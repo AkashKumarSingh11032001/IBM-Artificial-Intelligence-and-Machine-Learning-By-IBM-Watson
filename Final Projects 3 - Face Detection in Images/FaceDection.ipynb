{
 "cells": [
  {
   "cell_type": "markdown",
   "id": "cbe07b5e",
   "metadata": {},
   "source": [
    "# Final Projects 3 - Face Detection in Images"
   ]
  },
  {
   "cell_type": "code",
   "execution_count": 1,
   "id": "87c5aa3e",
   "metadata": {},
   "outputs": [],
   "source": [
    "#Face Detection "
   ]
  },
  {
   "cell_type": "code",
   "execution_count": 1,
   "id": "6ee36001",
   "metadata": {},
   "outputs": [],
   "source": [
    "import cv2\n",
    "import tensorflow\n",
    "import sys"
   ]
  },
  {
   "cell_type": "code",
   "execution_count": 2,
   "id": "449c50a4",
   "metadata": {},
   "outputs": [],
   "source": [
    "# Get user supplied values\n",
    "imagePath = sys.argv[1]\n",
    "cascPath = sys.argv[2]"
   ]
  },
  {
   "cell_type": "code",
   "execution_count": 3,
   "id": "60364428",
   "metadata": {},
   "outputs": [],
   "source": [
    "faceCascade=cv2.CascadeClassifier(cv2.data.haarcascades + \"haarcascade_frontalface_default.xml\")\n"
   ]
  },
  {
   "cell_type": "code",
   "execution_count": 4,
   "id": "162798df",
   "metadata": {},
   "outputs": [],
   "source": [
    "# Read the image\n",
    "import cv2\n",
    "image = cv2.imread('face.jpg')\n",
    "gray = cv2.cvtColor(image, cv2.COLOR_BGR2GRAY)\n",
    "\n"
   ]
  },
  {
   "cell_type": "code",
   "execution_count": null,
   "id": "48cba76e",
   "metadata": {},
   "outputs": [],
   "source": []
  }
 ],
 "metadata": {
  "kernelspec": {
   "display_name": "Python 3",
   "language": "python",
   "name": "python3"
  },
  "language_info": {
   "codemirror_mode": {
    "name": "ipython",
    "version": 3
   },
   "file_extension": ".py",
   "mimetype": "text/x-python",
   "name": "python",
   "nbconvert_exporter": "python",
   "pygments_lexer": "ipython3",
   "version": "3.8.8"
  }
 },
 "nbformat": 4,
 "nbformat_minor": 5
}
