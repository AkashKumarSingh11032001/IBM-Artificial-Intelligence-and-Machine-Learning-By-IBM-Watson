{
 "cells": [
  {
   "cell_type": "markdown",
   "id": "f314c2bd",
   "metadata": {},
   "source": [
    "# Basic Python Revision"
   ]
  },
  {
   "cell_type": "markdown",
   "id": "f04ffbc4",
   "metadata": {},
   "source": [
    "### Assigment question's"
   ]
  },
  {
   "cell_type": "code",
   "execution_count": 1,
   "id": "ac3e7df8",
   "metadata": {},
   "outputs": [
    {
     "data": {
      "text/plain": [
       "\"\\n\\nQues 1: Answer these 3 questions without typing code. Then type code to check your answer.\\nWhat is the value of the expression 4 * (6 + 5)\\nWhat is the value of the expression 4 * 6 + 5 \\nWhat is the value of the expression 4 + 6 * 5 \\n\\nQues 2: What is the type of the result of the expression 3 + 1.5 + 4?\\nQues 3: What would you use to find a number’s square root, as well as its square?\\nQues 4: Given the string 'hello' give an index command that returns 'e’.\\nQues 5: Reverse the string 'hello' using slicing\\nQues 6: Given the string hello, give two methods of producing the letter 'o' using indexing.\\n\\n\""
      ]
     },
     "execution_count": 1,
     "metadata": {},
     "output_type": "execute_result"
    }
   ],
   "source": [
    "'''\n",
    "\n",
    "Ques 1: Answer these 3 questions without typing code. Then type code to check your answer.\n",
    "What is the value of the expression 4 * (6 + 5)\n",
    "What is the value of the expression 4 * 6 + 5 \n",
    "What is the value of the expression 4 + 6 * 5 \n",
    "\n",
    "Ques 2: What is the type of the result of the expression 3 + 1.5 + 4?\n",
    "Ques 3: What would you use to find a number’s square root, as well as its square?\n",
    "Ques 4: Given the string 'hello' give an index command that returns 'e’.\n",
    "Ques 5: Reverse the string 'hello' using slicing\n",
    "Ques 6: Given the string hello, give two methods of producing the letter 'o' using indexing.\n",
    "\n",
    "'''"
   ]
  },
  {
   "cell_type": "code",
   "execution_count": null,
   "id": "6b781dc3",
   "metadata": {},
   "outputs": [],
   "source": [
    "# answer 1\n",
    "print(4*(6+5))\n",
    "print()\n"
   ]
  }
 ],
 "metadata": {
  "kernelspec": {
   "display_name": "Python 3",
   "language": "python",
   "name": "python3"
  },
  "language_info": {
   "codemirror_mode": {
    "name": "ipython",
    "version": 3
   },
   "file_extension": ".py",
   "mimetype": "text/x-python",
   "name": "python",
   "nbconvert_exporter": "python",
   "pygments_lexer": "ipython3",
   "version": "3.8.10"
  }
 },
 "nbformat": 4,
 "nbformat_minor": 5
}
