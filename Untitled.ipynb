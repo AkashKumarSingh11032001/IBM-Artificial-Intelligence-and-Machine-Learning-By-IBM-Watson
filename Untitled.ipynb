{
 "cells": [
  {
   "cell_type": "markdown",
   "id": "be4a43ae",
   "metadata": {},
   "source": [
    "# Basic Python Revision"
   ]
  },
  {
   "cell_type": "markdown",
   "id": "2a789e20",
   "metadata": {},
   "source": [
    "### Assigment question's"
   ]
  },
  {
   "cell_type": "code",
   "execution_count": 1,
   "id": "f8fa27d1",
   "metadata": {},
   "outputs": [
    {
     "data": {
      "text/plain": [
       "\"\\n\\nQues 1: Answer these 3 questions without typing code. Then type code to check your answer.\\nWhat is the value of the expression 4 * (6 + 5)\\nWhat is the value of the expression 4 * 6 + 5 \\nWhat is the value of the expression 4 + 6 * 5 \\n\\nQues 2: What is the type of the result of the expression 3 + 1.5 + 4?\\nQues 3: What would you use to find a number’s square root, as well as its square?\\nQues 4: Given the string 'hello' give an index command that returns 'e’.\\nQues 5: Reverse the string 'hello' using slicing\\nQues 6: Given the string hello, give two methods of producing the letter 'o' using indexing.\\n\\n\""
      ]
     },
     "execution_count": 1,
     "metadata": {},
     "output_type": "execute_result"
    }
   ],
   "source": [
    "'''\n",
    "\n",
    "Ques 1: Answer these 3 questions without typing code. Then type code to check your answer.\n",
    "What is the value of the expression 4 * (6 + 5)\n",
    "What is the value of the expression 4 * 6 + 5 \n",
    "What is the value of the expression4 * 6 + 5\n",
    "\n",
    "Ques 2: What is the type of the result of the expression 3 + 1.5 + 4?\n",
    "Ques 3: What would you use to find a number’s square root, as well as its square?\n",
    "Ques 4: Given the string 'hello' give an index command that returns 'e’.\n",
    "Ques 5: Reverse the string 'hello' using slicing\n",
    "Ques 6: Given the string hello, give two methods of producing the letter 'o' using indexing.\n",
    "\n",
    "'''"
   ]
  },
  {
   "cell_type": "code",
   "execution_count": 4,
   "id": "77b844ab",
   "metadata": {},
   "outputs": [
    {
     "name": "stdout",
     "output_type": "stream",
     "text": [
      "44\n",
      "29\n",
      "34\n"
     ]
    }
   ],
   "source": [
    "# answer 1\n",
    "print(4*(6+5)) #44\n",
    "print(4 * 6 + 5) #29\n",
    "print(4 + 6 * 5) #34"
   ]
  },
  {
   "cell_type": "code",
   "execution_count": 5,
   "id": "4da89a7d",
   "metadata": {},
   "outputs": [
    {
     "name": "stdout",
     "output_type": "stream",
     "text": [
      "8.5\n"
     ]
    }
   ],
   "source": [
    "# answer 2\n",
    "print(3 + 1.5 + 4) # float"
   ]
  },
  {
   "cell_type": "code",
   "execution_count": 6,
   "id": "bb73d15a",
   "metadata": {},
   "outputs": [
    {
     "name": "stdout",
     "output_type": "stream",
     "text": [
      "2.23606797749979\n"
     ]
    }
   ],
   "source": [
    "# answer 3\n",
    "print(5 ** 0.5) # sqrt with power"
   ]
  },
  {
   "cell_type": "code",
   "execution_count": 7,
   "id": "43bcc285",
   "metadata": {},
   "outputs": [
    {
     "name": "stdout",
     "output_type": "stream",
     "text": [
      "e\n"
     ]
    }
   ],
   "source": [
    "# answer 4/5/6\n",
    "str = \"hello\"\n",
    "print(str[1])"
   ]
  },
  {
   "cell_type": "code",
   "execution_count": 8,
   "id": "3db614d4",
   "metadata": {},
   "outputs": [
    {
     "name": "stdout",
     "output_type": "stream",
     "text": [
      "olleh\n"
     ]
    }
   ],
   "source": [
    "print(str[::-1])"
   ]
  },
  {
   "cell_type": "code",
   "execution_count": null,
   "id": "8ee346e0",
   "metadata": {},
   "outputs": [],
   "source": []
  }
 ],
 "metadata": {
  "kernelspec": {
   "display_name": "Python 3",
   "language": "python",
   "name": "python3"
  },
  "language_info": {
   "codemirror_mode": {
    "name": "ipython",
    "version": 3
   },
   "file_extension": ".py",
   "mimetype": "text/x-python",
   "name": "python",
   "nbconvert_exporter": "python",
   "pygments_lexer": "ipython3",
   "version": "3.8.10"
  }
 },
 "nbformat": 4,
 "nbformat_minor": 5
}
