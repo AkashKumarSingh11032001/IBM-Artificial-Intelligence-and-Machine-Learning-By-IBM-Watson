{
 "cells": [
  {
   "cell_type": "code",
   "execution_count": 3,
   "metadata": {},
   "outputs": [
    {
     "name": "stdout",
     "output_type": "stream",
     "text": [
      "  Ethnicity  Height (CM)  Weight (Kg)\n",
      "0     White        186.0         90.0\n",
      "1   African        185.0         98.0\n",
      "2     Asian        175.0         80.0\n",
      "3     White        180.0         88.0\n",
      "4     Asian        178.0          NaN\n",
      "5     Asian        172.0         72.0\n",
      "6   African        178.0         75.0\n",
      "7     White          NaN         89.0\n",
      "8   African        186.0         90.0\n",
      "0    Yes\n",
      "1     No\n",
      "2     No\n",
      "3    Yes\n",
      "4     No\n",
      "5    Yes\n",
      "6     No\n",
      "7    Yes\n",
      "8    Yes\n",
      "Name: Will survive till 70, dtype: object\n"
     ]
    }
   ],
   "source": [
    "import numpy as np\n",
    "import matplotlib.pyplot as plt\n",
    "import pandas as pd\n",
    "\n",
    "\n",
    "healthData = pd.read_csv ('Health.csv')\n",
    "#print(healthData)\n",
    "\n",
    "\n",
    "#X = healthData.iloc [:,:-1].values\n",
    "X = healthData.iloc [:,0:3]  # X is independent variable\n",
    "y = healthData.iloc [:,3]  #dependent variable\n",
    "\n",
    "print(X)\n",
    "print(y)"
   ]
  },
  {
   "cell_type": "code",
   "execution_count": 4,
   "metadata": {},
   "outputs": [
    {
     "name": "stdout",
     "output_type": "stream",
     "text": [
      "  Ethnicity  Height (CM)  Weight (Kg)\n",
      "0     White        186.0        90.00\n",
      "1   African        185.0        98.00\n",
      "2     Asian        175.0        80.00\n",
      "3     White        180.0        88.00\n",
      "4     Asian        178.0        85.25\n",
      "5     Asian        172.0        72.00\n",
      "6   African        178.0        75.00\n",
      "7     White        180.0        89.00\n",
      "8   African        186.0        90.00\n",
      "0    Yes\n",
      "1     No\n",
      "2     No\n",
      "3    Yes\n",
      "4     No\n",
      "5    Yes\n",
      "6     No\n",
      "7    Yes\n",
      "8    Yes\n",
      "Name: Will survive till 70, dtype: object\n"
     ]
    }
   ],
   "source": [
    "#==============================================================================\n",
    "# Handle the missing values, we can see that in dataset there are some missing\n",
    "# values, we will use strategy to impute mean of column values in these places\n",
    "#==============================================================================\n",
    "\n",
    "from sklearn.impute import SimpleImputer\n",
    "# First create an Imputer , Stratergy means what we want to write in place of missed value\n",
    "missingValueImputer = SimpleImputer (missing_values = np.nan, strategy = 'mean')  #if missing values are represented by 9999 then write same here\n",
    "# Set which columns imputer should perform   # update values of X with new values\n",
    "\n",
    "X.iloc[:,1:3] = missingValueImputer.fit_transform (X.iloc[:,1:3])\n",
    "\n",
    "\n",
    "print(X)\n",
    "print(y)"
   ]
  },
  {
   "cell_type": "code",
   "execution_count": 7,
   "metadata": {},
   "outputs": [
    {
     "name": "stdout",
     "output_type": "stream",
     "text": [
      "   Ethnicity  Height (CM)  Weight (Kg)\n",
      "0          2        186.0        90.00\n",
      "1          0        185.0        98.00\n",
      "2          1        175.0        80.00\n",
      "3          2        180.0        88.00\n",
      "4          1        178.0        85.25\n",
      "5          1        172.0        72.00\n",
      "6          0        178.0        75.00\n",
      "7          2        180.0        89.00\n",
      "8          0        186.0        90.00\n",
      "[1 0 0 1 0 1 0 1 1]\n"
     ]
    }
   ],
   "source": [
    "#==============================================================================\n",
    "# Encode the categorial data. So now instead of character values we will have\n",
    "# corresponding numerical values\n",
    "#==============================================================================\n",
    "\n",
    "from sklearn.preprocessing import LabelEncoder\n",
    "X_labelencoder = LabelEncoder()\n",
    "X.iloc[:, 0] = X_labelencoder.fit_transform(X.iloc[:, 0])\n",
    "print (X)\n",
    "\n",
    "# for y\n",
    "y_labelencoder = LabelEncoder ()\n",
    "y = y_labelencoder.fit_transform (y)\n",
    "print (y)\n",
    "\n",
    "from sklearn.model_selection import train_test_split\n",
    "\n",
    "#from sklearn.cross_validation import train_test_split\n",
    "X_train, X_test, y_train, y_test = train_test_split (X, y, test_size = 0.2, random_state = 0)"
   ]
  },
  {
   "cell_type": "code",
   "execution_count": 8,
   "metadata": {},
   "outputs": [
    {
     "data": {
      "text/html": [
       "<div>\n",
       "<style scoped>\n",
       "    .dataframe tbody tr th:only-of-type {\n",
       "        vertical-align: middle;\n",
       "    }\n",
       "\n",
       "    .dataframe tbody tr th {\n",
       "        vertical-align: top;\n",
       "    }\n",
       "\n",
       "    .dataframe thead th {\n",
       "        text-align: right;\n",
       "    }\n",
       "</style>\n",
       "<table border=\"1\" class=\"dataframe\">\n",
       "  <thead>\n",
       "    <tr style=\"text-align: right;\">\n",
       "      <th></th>\n",
       "      <th>Ethnicity</th>\n",
       "      <th>Height (CM)</th>\n",
       "      <th>Weight (Kg)</th>\n",
       "    </tr>\n",
       "  </thead>\n",
       "  <tbody>\n",
       "    <tr>\n",
       "      <th>1</th>\n",
       "      <td>0</td>\n",
       "      <td>185.0</td>\n",
       "      <td>98.00</td>\n",
       "    </tr>\n",
       "    <tr>\n",
       "      <th>4</th>\n",
       "      <td>1</td>\n",
       "      <td>178.0</td>\n",
       "      <td>85.25</td>\n",
       "    </tr>\n",
       "    <tr>\n",
       "      <th>8</th>\n",
       "      <td>0</td>\n",
       "      <td>186.0</td>\n",
       "      <td>90.00</td>\n",
       "    </tr>\n",
       "    <tr>\n",
       "      <th>6</th>\n",
       "      <td>0</td>\n",
       "      <td>178.0</td>\n",
       "      <td>75.00</td>\n",
       "    </tr>\n",
       "    <tr>\n",
       "      <th>3</th>\n",
       "      <td>2</td>\n",
       "      <td>180.0</td>\n",
       "      <td>88.00</td>\n",
       "    </tr>\n",
       "    <tr>\n",
       "      <th>0</th>\n",
       "      <td>2</td>\n",
       "      <td>186.0</td>\n",
       "      <td>90.00</td>\n",
       "    </tr>\n",
       "    <tr>\n",
       "      <th>5</th>\n",
       "      <td>1</td>\n",
       "      <td>172.0</td>\n",
       "      <td>72.00</td>\n",
       "    </tr>\n",
       "  </tbody>\n",
       "</table>\n",
       "</div>"
      ],
      "text/plain": [
       "   Ethnicity  Height (CM)  Weight (Kg)\n",
       "1          0        185.0        98.00\n",
       "4          1        178.0        85.25\n",
       "8          0        186.0        90.00\n",
       "6          0        178.0        75.00\n",
       "3          2        180.0        88.00\n",
       "0          2        186.0        90.00\n",
       "5          1        172.0        72.00"
      ]
     },
     "execution_count": 8,
     "metadata": {},
     "output_type": "execute_result"
    }
   ],
   "source": [
    "from sklearn.model_selection import train_test_split\n",
    "\n",
    "#from sklearn.cross_validation import train_test_split\n",
    "X_train, X_test, y_train, y_test = train_test_split (X, y, test_size = 0.2, random_state = 0)\n",
    "\n",
    "X_train"
   ]
  },
  {
   "cell_type": "code",
   "execution_count": 9,
   "metadata": {},
   "outputs": [
    {
     "name": "stdout",
     "output_type": "stream",
     "text": [
      "[[-1.02899151  0.88159065  1.48988518]\n",
      " [ 0.17149859 -0.55834074 -0.02546812]\n",
      " [-1.02899151  1.08729513  0.53907526]\n",
      " [-1.02899151 -0.55834074 -1.24369333]\n",
      " [ 1.37198868 -0.14693177  0.30137279]\n",
      " [ 1.37198868  1.08729513  0.53907526]\n",
      " [ 0.17149859 -1.79256765 -1.60024704]]\n"
     ]
    }
   ],
   "source": [
    "#==============================================================================\n",
    "# Feature scaling is to bring all the independent variables in a dataset into\n",
    "# same scale, to avoid any variable dominating  the model. Here we will not \n",
    "# transform the dependent variables.\n",
    "#==============================================================================\n",
    "\n",
    "from sklearn.preprocessing import StandardScaler\n",
    "independent_scalar = StandardScaler()\n",
    "X_train = independent_scalar.fit_transform (X_train) #fit and transform\n",
    "X_test = independent_scalar.transform (X_test) # only transform\n",
    "print(X_train)"
   ]
  },
  {
   "cell_type": "code",
   "execution_count": 10,
   "metadata": {},
   "outputs": [
    {
     "data": {
      "text/plain": [
       "array([1, 1])"
      ]
     },
     "execution_count": 10,
     "metadata": {},
     "output_type": "execute_result"
    }
   ],
   "source": [
    "from sklearn.linear_model import LogisticRegression\n",
    "lr=LogisticRegression()\n",
    "lr.fit(X_train,y_train)\n",
    "lr.predict(X_test)\n"
   ]
  },
  {
   "cell_type": "code",
   "execution_count": null,
   "metadata": {},
   "outputs": [],
   "source": []
  }
 ],
 "metadata": {
  "kernelspec": {
   "display_name": "Python 3",
   "language": "python",
   "name": "python3"
  },
  "language_info": {
   "codemirror_mode": {
    "name": "ipython",
    "version": 3
   },
   "file_extension": ".py",
   "mimetype": "text/x-python",
   "name": "python",
   "nbconvert_exporter": "python",
   "pygments_lexer": "ipython3",
   "version": "3.8.8"
  }
 },
 "nbformat": 4,
 "nbformat_minor": 2
}
