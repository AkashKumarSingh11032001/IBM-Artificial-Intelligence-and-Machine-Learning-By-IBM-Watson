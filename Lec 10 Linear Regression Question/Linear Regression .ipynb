{
 "cells": [
  {
   "cell_type": "markdown",
   "id": "026dafc1",
   "metadata": {},
   "source": [
    "# Linear Regression [Predict Admission  Dataset]"
   ]
  },
  {
   "cell_type": "code",
   "execution_count": 1,
   "id": "85c44c13",
   "metadata": {},
   "outputs": [],
   "source": [
    "# Load necessary Libraries \n",
    "import numpy as np\n",
    "import matplotlib.pyplot as plt\n",
    "import pandas as pd"
   ]
  },
  {
   "cell_type": "code",
   "execution_count": 5,
   "id": "137a290f",
   "metadata": {},
   "outputs": [
    {
     "name": "stdout",
     "output_type": "stream",
     "text": [
      "0      0.92\n",
      "1      0.76\n",
      "2      0.72\n",
      "3      0.80\n",
      "4      0.65\n",
      "       ... \n",
      "495    0.87\n",
      "496    0.96\n",
      "497    0.93\n",
      "498    0.73\n",
      "499    0.84\n",
      "Name: Chance of Admit , Length: 500, dtype: float64\n"
     ]
    }
   ],
   "source": [
    "# read Dataset [ STEP 1: Collect the data ]\n",
    "data = pd.read_csv(\"Dataset/admission.csv\")\n",
    "\n",
    "\n",
    "# divide dataset into dependent( chanace of admit ) and independent (all score /sop/lor/cgpa)\n",
    "\n",
    "i = data.iloc[:,1:8]\n",
    "d = data.iloc[:,8]\n",
    "\n"
   ]
  }
 ],
 "metadata": {
  "kernelspec": {
   "display_name": "Python 3",
   "language": "python",
   "name": "python3"
  },
  "language_info": {
   "codemirror_mode": {
    "name": "ipython",
    "version": 3
   },
   "file_extension": ".py",
   "mimetype": "text/x-python",
   "name": "python",
   "nbconvert_exporter": "python",
   "pygments_lexer": "ipython3",
   "version": "3.8.8"
  }
 },
 "nbformat": 4,
 "nbformat_minor": 5
}
