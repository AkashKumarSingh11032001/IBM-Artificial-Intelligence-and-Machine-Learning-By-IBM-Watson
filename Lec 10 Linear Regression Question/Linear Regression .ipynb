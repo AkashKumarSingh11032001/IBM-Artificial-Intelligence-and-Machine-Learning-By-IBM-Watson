{
 "cells": [
  {
   "cell_type": "markdown",
   "id": "026dafc1",
   "metadata": {},
   "source": [
    "# Linear Regression [Predict Admission  Dataset]"
   ]
  },
  {
   "cell_type": "code",
   "execution_count": 1,
   "id": "85c44c13",
   "metadata": {},
   "outputs": [],
   "source": [
    "# Load necessary Libraries \n",
    "import numpy as np\n",
    "import matplotlib.pyplot as plt\n",
    "import pandas as pd"
   ]
  },
  {
   "cell_type": "code",
   "execution_count": 6,
   "id": "137a290f",
   "metadata": {},
   "outputs": [],
   "source": [
    "# read Dataset [ STEP 1: Collect the data ]\n",
    "data = pd.read_csv(\"Dataset/admission.csv\")\n",
    "\n",
    "\n",
    "# divide dataset into dependent( chanace of admit ) and independent (all score /sop/lor/cgpa)\n",
    "\n",
    "i = data.iloc[:,1:8]\n",
    "d = data.iloc[:,8]\n",
    "\n"
   ]
  },
  {
   "cell_type": "code",
   "execution_count": 8,
   "id": "1c01cf7d",
   "metadata": {},
   "outputs": [
    {
     "name": "stdout",
     "output_type": "stream",
     "text": [
      "<class 'pandas.core.frame.DataFrame'>\n",
      "RangeIndex: 500 entries, 0 to 499\n",
      "Data columns (total 9 columns):\n",
      " #   Column             Non-Null Count  Dtype  \n",
      "---  ------             --------------  -----  \n",
      " 0   Serial No.         500 non-null    int64  \n",
      " 1   GRE Score          500 non-null    int64  \n",
      " 2   TOEFL Score        500 non-null    int64  \n",
      " 3   University Rating  500 non-null    int64  \n",
      " 4   SOP                500 non-null    float64\n",
      " 5   LOR                500 non-null    float64\n",
      " 6   CGPA               500 non-null    float64\n",
      " 7   Research           500 non-null    int64  \n",
      " 8   Chance of Admit    500 non-null    float64\n",
      "dtypes: float64(4), int64(5)\n",
      "memory usage: 35.3 KB\n"
     ]
    }
   ],
   "source": [
    "# check for loss data like Nan/Empty space/ etc [ Step 2 : Data Wranglling]\n",
    "data.info()"
   ]
  },
  {
   "cell_type": "code",
   "execution_count": null,
   "id": "9bc9efb6",
   "metadata": {},
   "outputs": [],
   "source": [
    "# Split the dataset into 4 categories [ x_train / x_test / y_train / y_test]\n",
    "\n",
    "from sklearn.model_selection import train_test_split as training \n",
    "x_train , x_test , y_train , y_test = training(i , d , test_size = 0.)\n"
   ]
  }
 ],
 "metadata": {
  "kernelspec": {
   "display_name": "Python 3",
   "language": "python",
   "name": "python3"
  },
  "language_info": {
   "codemirror_mode": {
    "name": "ipython",
    "version": 3
   },
   "file_extension": ".py",
   "mimetype": "text/x-python",
   "name": "python",
   "nbconvert_exporter": "python",
   "pygments_lexer": "ipython3",
   "version": "3.8.8"
  }
 },
 "nbformat": 4,
 "nbformat_minor": 5
}
