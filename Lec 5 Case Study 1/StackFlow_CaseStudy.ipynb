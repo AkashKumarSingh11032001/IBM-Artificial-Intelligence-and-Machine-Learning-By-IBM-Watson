{
 "cells": [
  {
   "cell_type": "markdown",
   "id": "7e0ab9ce",
   "metadata": {},
   "source": [
    "# StackFlow_CaseStudy"
   ]
  },
  {
   "cell_type": "code",
   "execution_count": 2,
   "id": "77cc2b68",
   "metadata": {},
   "outputs": [],
   "source": [
    "import pandas as pd\n",
    "import numpy as np\n",
    "import matplotlib.pyplot as plt\n",
    "import csv"
   ]
  },
  {
   "cell_type": "code",
   "execution_count": 12,
   "id": "33792cb1",
   "metadata": {},
   "outputs": [
    {
     "name": "stdout",
     "output_type": "stream",
     "text": [
      "736381 Jon Skeet 22656\n"
     ]
    }
   ],
   "source": [
    "data1 = pd.read_csv(\"Dataset/users.csv\")\n",
    "data2 = pd.read_csv(\"Dataset/post.csv\")\n",
    "df = data.copy()\n",
    "rep = df.reputation.max()\n",
    "name = np.array(df.displayname[df.reputation == rep])\n",
    "for i in name:\n",
    "    name = i\n",
    "    \n",
    "user_id= np.array(df.userid[df.displayname == name])\n",
    "for i in user_id:\n",
    "    user_id = i\n",
    "    \n",
    "    \n",
    "print(rep,name,user_id)"
   ]
  },
  {
   "cell_type": "code",
   "execution_count": 20,
   "id": "bbbf52a8",
   "metadata": {},
   "outputs": [
    {
     "data": {
      "text/plain": [
       "35.263352397712275"
      ]
     },
     "execution_count": 20,
     "metadata": {},
     "output_type": "execute_result"
    }
   ],
   "source": [
    "# Find the average age of users on the Stack Overflow site.\n",
    "\n",
    "data = pd.read_csv(\"Dataset/users.csv\")\n",
    "df = data.copy()\n",
    "#df.age.fillna(0.0)\n",
    "df.age.mean(axis=0,skipna = True)\n",
    "\n",
    "\n"
   ]
  },
  {
   "cell_type": "code",
   "execution_count": 33,
   "id": "75ebedc2",
   "metadata": {},
   "outputs": [
    {
     "name": "stdout",
     "output_type": "stream",
     "text": [
      "2008-01-08 00:42:00\n"
     ]
    }
   ],
   "source": [
    "# Find the display name of user who posted the oldest post on Stack Overflow (in terms of date).\n",
    "data1 = pd.read_csv(\"Dataset/users.csv\")\n",
    "data2 = pd.read_csv(\"Dataset/post.csv\")\n",
    "df1 = data1.copy()\n",
    "df2 = data2.copy()\n",
    "#user_name_np = np.array()\n",
    "user_name = pd.DataFrame(df1.displayname)\n",
    "user_name\n",
    "post_date = pd.DataFrame(df2.creationdate)\n",
    "post_date['creationdate'] =post_date['creationdate'].astype('datetime64[ns]')\n",
    "print(post_date.creationdate.min())"
   ]
  },
  {
   "cell_type": "code",
   "execution_count": 41,
   "id": "1b9e0757",
   "metadata": {},
   "outputs": [
    {
     "name": "stdout",
     "output_type": "stream",
     "text": [
      "736381 Jon Skeet 22656 765\n"
     ]
    }
   ],
   "source": [
    "# Find the display name and no. of comments done by the user who has got maximum reputation.\n",
    "data1 = pd.read_csv(\"Dataset/users.csv\")\n",
    "data2 = pd.read_csv(\"Dataset/comments.csv\")\n",
    "df = data1.copy()\n",
    "df1 = data2.copy()\n",
    "#max reputation\n",
    "rep = df.reputation.max()\n",
    "# user name\n",
    "name = np.array(df.displayname[df.reputation == rep])\n",
    "for i in name:\n",
    "    name = i\n",
    "#user id\n",
    "user_id= np.array(df.userid[df.displayname == name])\n",
    "for i in user_id:\n",
    "    user_id = i\n",
    "\n",
    "# number of comments\n",
    "comm = len(np.array(df1.userid[df1.userid == user_id]))\n",
    "\n",
    "print(rep,name,user_id,comm)"
   ]
  },
  {
   "cell_type": "code",
   "execution_count": 59,
   "id": "0f0076ed",
   "metadata": {},
   "outputs": [
    {
     "name": "stdout",
     "output_type": "stream",
     "text": [
      "aku\n"
     ]
    }
   ],
   "source": [
    "# Find the display name of user who has created maximum no. of posts on Stack Overflow. Overflow\n",
    "data1 = pd.read_csv(\"Dataset/users.csv\")\n",
    "data2 = pd.read_csv(\"Dataset/post.csv\")\n",
    "df = data1.copy()\n",
    "df1 = data2.copy()\n",
    "\n",
    "max_com = df1.userid.value_counts().index.tolist()[0]\n",
    "user_name = np.array(df.displayname[df.userid == max_com ])\n",
    "for i in user_name:\n",
    "    print(i)\n"
   ]
  },
  {
   "cell_type": "code",
   "execution_count": 71,
   "id": "b453a427",
   "metadata": {},
   "outputs": [
    {
     "name": "stdout",
     "output_type": "stream",
     "text": [
      "Shadow_x99\n"
     ]
    }
   ],
   "source": [
    "# Find the owner name and id of user whose post has got maximum no. of view counts so far.\n",
    "data1 = pd.read_csv(\"Dataset/users.csv\")\n",
    "data2 = pd.read_csv(\"Dataset/post.csv\")\n",
    "df = data1.copy()\n",
    "df1 = data2.copy()\n",
    "\n",
    "max_view = df1.viewcount.fillna(0.0)\n",
    "max_view = df1.viewcount.max()\n",
    "user_id = np.array(df1.userid[df1.viewcount == max_view])\n",
    "#user_id\n",
    "for i in user_id:\n",
    "    user_id = i\n",
    "\n",
    "user_name = np.array(df.displayname[df.userid == user_id])\n",
    "for i in user_name:\n",
    "    print(i)\n"
   ]
  },
  {
   "cell_type": "code",
   "execution_count": 25,
   "id": "663be0ad",
   "metadata": {},
   "outputs": [
    {
     "data": {
      "text/plain": [
       "count     50000\n",
       "unique      116\n",
       "top           0\n",
       "freq      35740\n",
       "Name: commentcount, dtype: int64"
      ]
     },
     "execution_count": 25,
     "metadata": {},
     "output_type": "execute_result"
    }
   ],
   "source": [
    "# Find the title and owner name of post who has got maximum no. of Comment count.\n",
    "data1 = pd.read_csv(\"Dataset/users.csv\")\n",
    "data2 = pd.read_csv(\"Dataset/post.csv\")\n",
    "df = data1.copy()\n",
    "df1 = data2.copy()\n",
    "\n",
    "df1.commentcount.fillna(0,inplace= True)\n",
    "df1[df1.commentcount.astype(str).str.isdigit()]\n",
    "df1.commentcount.describe()\n",
    "# max_com = pd.DataFrame(df1.commentcount)\n",
    "# max_com.value_counts().head(50)\n",
    "#pd.max(df1.commentcount)\n",
    "# max_comm = pd.DataFrame(df1.commentcount)\n",
    "# max_comm = max_comm.dropna()\n",
    "# max_comm = max_comm.max()\n",
    "#df1.commentcount\n",
    "#df1.commentcount.isnull().sum()\n",
    "#max_view_com = df1.commentcount.max()\n",
    "#max_view_com\n",
    "\n"
   ]
  },
  {
   "cell_type": "code",
   "execution_count": 60,
   "id": "f05c600d",
   "metadata": {},
   "outputs": [
    {
     "data": {
      "text/plain": [
       "United States    2452\n",
       "Name: location, dtype: int64"
      ]
     },
     "execution_count": 60,
     "metadata": {},
     "output_type": "execute_result"
    }
   ],
   "source": [
    "#method 1\n",
    "data = pd.read_csv(\"Dataset/users.csv\")\n",
    "df = data.copy()\n",
    "df.location.value_counts()[:1]\n",
    "#df.loc.value_counts()"
   ]
  },
  {
   "cell_type": "code",
   "execution_count": 59,
   "id": "37a0242f",
   "metadata": {},
   "outputs": [
    {
     "data": {
      "text/plain": [
       "United States    2452\n",
       "dtype: int64"
      ]
     },
     "execution_count": 59,
     "metadata": {},
     "output_type": "execute_result"
    }
   ],
   "source": [
    "# method 2\n",
    "data = pd.read_csv(\"Dataset/users.csv\")\n",
    "df = data.copy()\n",
    "locate = pd.DataFrame(df.location.dropna())\n",
    "np_locate = np.array(locate)\n",
    "\n",
    "for i in range(len(np_locate)):\n",
    "    if 'United States' in np_locate[i]:\n",
    "        np_locate[i] = 'United States'\n",
    "    if 'India' in np_locate[i]:\n",
    "        np_locate[i] = 'India'\n",
    "    if 'Australia' in np_locate[i]:\n",
    "        np_locate[i] = 'Australia'\n",
    "    if 'United Kingdom' in np_locate[i]:\n",
    "        np_locate[i] = 'United Kingdom'\n",
    "        \n",
    "pd_loc = pd.DataFrame(np_locate)\n",
    "pd_loc.value_counts()[:1]"
   ]
  },
  {
   "cell_type": "code",
   "execution_count": 79,
   "id": "96b9466f",
   "metadata": {},
   "outputs": [
    {
     "data": {
      "text/html": [
       "<div>\n",
       "<style scoped>\n",
       "    .dataframe tbody tr th:only-of-type {\n",
       "        vertical-align: middle;\n",
       "    }\n",
       "\n",
       "    .dataframe tbody tr th {\n",
       "        vertical-align: top;\n",
       "    }\n",
       "\n",
       "    .dataframe thead th {\n",
       "        text-align: right;\n",
       "    }\n",
       "</style>\n",
       "<table border=\"1\" class=\"dataframe\">\n",
       "  <thead>\n",
       "    <tr style=\"text-align: right;\">\n",
       "      <th></th>\n",
       "      <th>0</th>\n",
       "    </tr>\n",
       "  </thead>\n",
       "  <tbody>\n",
       "    <tr>\n",
       "      <th>0</th>\n",
       "      <td>West Linn OR</td>\n",
       "    </tr>\n",
       "    <tr>\n",
       "      <th>1</th>\n",
       "      <td>United States</td>\n",
       "    </tr>\n",
       "    <tr>\n",
       "      <th>2</th>\n",
       "      <td>Los Angeles CA</td>\n",
       "    </tr>\n",
       "    <tr>\n",
       "      <th>3</th>\n",
       "      <td>New York NY</td>\n",
       "    </tr>\n",
       "    <tr>\n",
       "      <th>4</th>\n",
       "      <td>Toronto Canada</td>\n",
       "    </tr>\n",
       "    <tr>\n",
       "      <th>...</th>\n",
       "      <td>...</td>\n",
       "    </tr>\n",
       "    <tr>\n",
       "      <th>29786</th>\n",
       "      <td>Dublin Ireland</td>\n",
       "    </tr>\n",
       "    <tr>\n",
       "      <th>29787</th>\n",
       "      <td>Vilnius Lithuania</td>\n",
       "    </tr>\n",
       "    <tr>\n",
       "      <th>29788</th>\n",
       "      <td>San Francisco CA</td>\n",
       "    </tr>\n",
       "    <tr>\n",
       "      <th>29789</th>\n",
       "      <td>India</td>\n",
       "    </tr>\n",
       "    <tr>\n",
       "      <th>29790</th>\n",
       "      <td>Paris France</td>\n",
       "    </tr>\n",
       "  </tbody>\n",
       "</table>\n",
       "<p>29791 rows × 1 columns</p>\n",
       "</div>"
      ],
      "text/plain": [
       "                       0\n",
       "0           West Linn OR\n",
       "1          United States\n",
       "2         Los Angeles CA\n",
       "3            New York NY\n",
       "4         Toronto Canada\n",
       "...                  ...\n",
       "29786     Dublin Ireland\n",
       "29787  Vilnius Lithuania\n",
       "29788   San Francisco CA\n",
       "29789              India\n",
       "29790       Paris France\n",
       "\n",
       "[29791 rows x 1 columns]"
      ]
     },
     "execution_count": 79,
     "metadata": {},
     "output_type": "execute_result"
    }
   ],
   "source": [
    "data = pd.read_csv(\"Dataset/users.csv\")\n",
    "df = data.copy()\n",
    "df.location.dropna(inplace = True)\n",
    "#locate = pd.DataFrame(df.location.dropna(),inplace = True)\n",
    "np_locate = np.array(locate)\n",
    "\n",
    "for i in range(len(np_locate)):\n",
    "    if 'India' in np_locate[i]:\n",
    "        np_locate[i] = 'India'\n",
    "        \n",
    "        \n",
    "locate = pd.DataFrame(np_locate)\n",
    "locate\n",
    "#user_id = df[df.displayname[df.location == 'India']]\n"
   ]
  }
 ],
 "metadata": {
  "kernelspec": {
   "display_name": "Python 3",
   "language": "python",
   "name": "python3"
  },
  "language_info": {
   "codemirror_mode": {
    "name": "ipython",
    "version": 3
   },
   "file_extension": ".py",
   "mimetype": "text/x-python",
   "name": "python",
   "nbconvert_exporter": "python",
   "pygments_lexer": "ipython3",
   "version": "3.8.10"
  }
 },
 "nbformat": 4,
 "nbformat_minor": 5
}
