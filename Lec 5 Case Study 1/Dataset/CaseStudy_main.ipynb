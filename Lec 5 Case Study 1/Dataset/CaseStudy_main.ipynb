{
 "cells": [
  {
   "cell_type": "markdown",
   "id": "68faa960",
   "metadata": {},
   "source": [
    "# Stack OverFlow CaseStudy"
   ]
  },
  {
   "cell_type": "code",
   "execution_count": 1,
   "id": "bc3a96c7",
   "metadata": {},
   "outputs": [],
   "source": [
    "import pandas as pd"
   ]
  },
  {
   "cell_type": "code",
   "execution_count": null,
   "id": "8cc02a22",
   "metadata": {},
   "outputs": [],
   "source": [
    "# question 1: Find the display name and no. of posts created by the user who has got maximum reputation.\n",
    "user_data = pd.read_csv(\"Dataset/\")"
   ]
  }
 ],
 "metadata": {
  "kernelspec": {
   "display_name": "Python 3",
   "language": "python",
   "name": "python3"
  },
  "language_info": {
   "codemirror_mode": {
    "name": "ipython",
    "version": 3
   },
   "file_extension": ".py",
   "mimetype": "text/x-python",
   "name": "python",
   "nbconvert_exporter": "python",
   "pygments_lexer": "ipython3",
   "version": "3.8.10"
  }
 },
 "nbformat": 4,
 "nbformat_minor": 5
}
