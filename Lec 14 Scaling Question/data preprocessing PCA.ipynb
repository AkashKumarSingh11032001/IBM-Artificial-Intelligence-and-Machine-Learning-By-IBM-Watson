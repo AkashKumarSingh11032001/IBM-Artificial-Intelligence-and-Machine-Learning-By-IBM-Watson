{
 "cells": [
  {
   "cell_type": "code",
   "execution_count": 3,
   "metadata": {},
   "outputs": [
    {
     "name": "stdout",
     "output_type": "stream",
     "text": [
      "  Ethnicity  Height (CM)  Weight (Kg)\n",
      "0     White        186.0         90.0\n",
      "1   African        185.0         98.0\n",
      "2     Asian        175.0         80.0\n",
      "3     White        180.0         88.0\n",
      "4     Asian        178.0          NaN\n",
      "5     Asian        172.0         72.0\n",
      "6   African        178.0         75.0\n",
      "7     White          NaN         89.0\n",
      "8   African        186.0         90.0\n",
      "0    Yes\n",
      "1     No\n",
      "2     No\n",
      "3    Yes\n",
      "4     No\n",
      "5    Yes\n",
      "6     No\n",
      "7    Yes\n",
      "8    Yes\n",
      "Name: Will survive till 70, dtype: object\n"
     ]
    }
   ],
   "source": [
    "import numpy as np\n",
    "\n",
    "import pandas as pd\n",
    "import matplotlib.pyplot as plt\n",
    "\n",
    "df = pd.read_csv ('Health.csv')\n",
    "\n",
    "X = df.iloc [:,0:3]  # X is independent variable\n",
    "y = df.iloc [:,3]   #dependent variable\n",
    "\n",
    "print(X)\n",
    "print(y)\n",
    "\n"
   ]
  },
  {
   "cell_type": "code",
   "execution_count": 4,
   "metadata": {},
   "outputs": [
    {
     "name": "stdout",
     "output_type": "stream",
     "text": [
      "  Ethnicity  Height (CM)  Weight (Kg)\n",
      "0     White        186.0        90.00\n",
      "1   African        185.0        98.00\n",
      "2     Asian        175.0        80.00\n",
      "3     White        180.0        88.00\n",
      "4     Asian        178.0        85.25\n",
      "5     Asian        172.0        72.00\n",
      "6   African        178.0        75.00\n",
      "7     White        180.0        89.00\n",
      "8   African        186.0        90.00\n",
      "0    Yes\n",
      "1     No\n",
      "2     No\n",
      "3    Yes\n",
      "4     No\n",
      "5    Yes\n",
      "6     No\n",
      "7    Yes\n",
      "8    Yes\n",
      "Name: Will survive till 70, dtype: object\n"
     ]
    }
   ],
   "source": [
    "#==============================================================================\n",
    "# Handle the missing values, we can see that in dataset there are some missing\n",
    "# values, we will use strategy to impute mean of column values in these places\n",
    "#==============================================================================\n",
    "\n",
    "from sklearn.impute import SimpleImputer\n",
    "# First create an Imputer , Stratergy means what we want to write in place of missed value\n",
    "missingValueImputer = SimpleImputer (missing_values = np.nan, strategy = 'mean')  #if missing values are represented by 9999 then write same here\n",
    "# Set which columns imputer should perform   # update values of X with new values\n",
    "\n",
    "X.iloc[:,1:3] = missingValueImputer.fit_transform (X.iloc[:,1:3])\n",
    "\n",
    "\n",
    "print(X)\n",
    "print(y)"
   ]
  },
  {
   "cell_type": "code",
   "execution_count": 5,
   "metadata": {},
   "outputs": [
    {
     "name": "stdout",
     "output_type": "stream",
     "text": [
      "   Ethnicity  Height (CM)  Weight (Kg)\n",
      "0          2        186.0        90.00\n",
      "1          0        185.0        98.00\n",
      "2          1        175.0        80.00\n",
      "3          2        180.0        88.00\n",
      "4          1        178.0        85.25\n",
      "5          1        172.0        72.00\n",
      "6          0        178.0        75.00\n",
      "7          2        180.0        89.00\n",
      "8          0        186.0        90.00\n",
      "[1 0 0 1 0 1 0 1 1]\n",
      "[[ 1.22474487  1.29232469  0.61464681]\n",
      " [-1.22474487  1.07693724  1.64984143]\n",
      " [ 0.         -1.07693724 -0.67934647]\n",
      " [ 1.22474487  0.          0.35584815]\n",
      " [ 0.         -0.4307749   0.        ]\n",
      " [ 0.         -1.72309958 -1.71454109]\n",
      " [-1.22474487 -0.4307749  -1.32634311]\n",
      " [ 1.22474487  0.          0.48524748]\n",
      " [-1.22474487  1.29232469  0.61464681]]\n"
     ]
    }
   ],
   "source": [
    "\n",
    "from sklearn.preprocessing import LabelEncoder\n",
    "X_labelencoder = LabelEncoder()\n",
    "X.iloc[:, 0] = X_labelencoder.fit_transform(X.iloc[:, 0])\n",
    "print (X)\n",
    "\n",
    "# for y\n",
    "y_labelencoder = LabelEncoder ()\n",
    "y = y_labelencoder.fit_transform (y)\n",
    "print (y)\n",
    "\n",
    "from sklearn.model_selection import train_test_split\n",
    "\n",
    "#from sklearn.cross_validation import train_test_split\n",
    "X_train, X_test, y_train, y_test = train_test_split (X, y, test_size = 0.2, random_state = 0)\n",
    "\n",
    "X = independent_scalar.fit_transform(X)\n",
    "print(X)\n"
   ]
  },
  {
   "cell_type": "code",
   "execution_count": 7,
   "metadata": {},
   "outputs": [
    {
     "data": {
      "text/plain": [
       "array([[-1.02899151,  0.88159065,  1.48988518],\n",
       "       [ 0.17149859, -0.55834074, -0.02546812],\n",
       "       [-1.02899151,  1.08729513,  0.53907526],\n",
       "       [-1.02899151, -0.55834074, -1.24369333],\n",
       "       [ 1.37198868, -0.14693177,  0.30137279],\n",
       "       [ 1.37198868,  1.08729513,  0.53907526],\n",
       "       [ 0.17149859, -1.79256765, -1.60024704]])"
      ]
     },
     "execution_count": 7,
     "metadata": {},
     "output_type": "execute_result"
    }
   ],
   "source": [
    "from sklearn.preprocessing import StandardScaler\n",
    "independent_scalar = StandardScaler()\n",
    "X_train = independent_scalar.fit_transform (X_train) #fit and transform\n",
    "X_test = independent_scalar.transform (X_test) # only transform\n",
    "#print(X)\n",
    "#==============================================================================\n",
    "# Encode the categorial data. So now instead of character values we will have\n",
    "# corresponding numerical values\n",
    "#==============================================================================\n",
    "X_train"
   ]
  },
  {
   "cell_type": "code",
   "execution_count": 11,
   "metadata": {},
   "outputs": [
    {
     "name": "stdout",
     "output_type": "stream",
     "text": [
      "[0.62091604 0.33391978]\n"
     ]
    },
    {
     "data": {
      "text/plain": [
       "array([[-1.7331777 , -0.89485498],\n",
       "       [ 0.42293782,  0.17437397],\n",
       "       [-1.20897496, -0.98582458],\n",
       "       [ 1.21092155, -1.13452163],\n",
       "       [-0.02822152,  1.39563236],\n",
       "       [-1.06877623,  1.40453238],\n",
       "       [ 2.40529105,  0.04066248]])"
      ]
     },
     "execution_count": 11,
     "metadata": {},
     "output_type": "execute_result"
    }
   ],
   "source": [
    "#principal component analysis is a dimensionality reduction technique \n",
    "#i.e. given 10 input features,\n",
    "#it will produce a smaller number of independent features., \n",
    "#it maximizes the variances. \n",
    "\n",
    "from sklearn.decomposition import PCA\n",
    "\n",
    "pc = PCA(n_components=2)\n",
    "X_pca=pc.fit_transform(X_train)\n",
    "#X_pca = pc.transform(X)\n",
    "#print(X_pca)\n",
    "\n",
    "#print(\"original shape:   \", X.shape)  # (9,3)#print(\"transformed shape:\", X_pca.shape) #(9,2) when n_components =2 \n",
    "#returns a vector of the variance explained by each dimension\n",
    "print(pc.explained_variance_ratio_)   # 61% data belongs to first axis and 33% data belongs to the second axis and remaining belongs to others\n",
    "\n",
    "\n",
    "\n",
    "\n",
    "#plt.plot(pc.explained_variance_ratio_)\n",
    "\n",
    "#plt.show()\n",
    "X_pca\n"
   ]
  },
  {
   "cell_type": "code",
   "execution_count": 10,
   "metadata": {},
   "outputs": [
    {
     "data": {
      "image/png": "[encoded data removed]",
      "text/plain": [
       "<matplotlib.figure.Figure at 0x1f1f7d0bfd0>"
      ]
     },
     "metadata": {},
     "output_type": "display_data"
    }
   ],
   "source": [
    "df = pd.DataFrame(X_pca,columns = ['PCA1','PCA2'])\n",
    "#print(df)\n",
    "#print(df.iloc[:,0])\n",
    "\n",
    "#plt.plot(df)\n",
    "\n",
    "plt.scatter(df.iloc[:,0], df.iloc[:,1], marker='o');  #'o', '.', ',', 'x', '+'\n",
    "\n",
    "plt.xlabel('PCA1')\n",
    "plt.ylabel('PCA2')\n",
    "plt.show()"
   ]
  },
  {
   "cell_type": "code",
   "execution_count": null,
   "metadata": {
    "collapsed": true
   },
   "outputs": [],
   "source": []
  }
 ],
 "metadata": {
  "kernelspec": {
   "display_name": "Python 3",
   "language": "python",
   "name": "python3"
  },
  "language_info": {
   "codemirror_mode": {
    "name": "ipython",
    "version": 3
   },
   "file_extension": ".py",
   "mimetype": "text/x-python",
   "name": "python",
   "nbconvert_exporter": "python",
   "pygments_lexer": "ipython3",
   "version": "3.8.8"
  }
 },
 "nbformat": 4,
 "nbformat_minor": 2
}
