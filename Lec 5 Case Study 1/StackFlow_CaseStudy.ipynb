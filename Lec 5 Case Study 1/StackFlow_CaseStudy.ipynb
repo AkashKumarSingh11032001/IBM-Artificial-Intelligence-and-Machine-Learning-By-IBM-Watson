{
 "cells": [
  {
   "cell_type": "markdown",
   "id": "78cd99b4",
   "metadata": {},
   "source": [
    "# StackFlow_CaseStudy"
   ]
  },
  {
   "cell_type": "code",
   "execution_count": 1,
   "id": "9132e8c2",
   "metadata": {},
   "outputs": [],
   "source": [
    "import pandas as pd\n",
    "import numpy as np\n",
    "import matplotlib.pyplot as plt\n",
    "import csv"
   ]
  },
  {
   "cell_type": "code",
   "execution_count": 12,
   "id": "a6c846f1",
   "metadata": {},
   "outputs": [
    {
     "name": "stdout",
     "output_type": "stream",
     "text": [
      "736381 Jon Skeet 22656\n"
     ]
    }
   ],
   "source": [
    "data1 = pd.read_csv(\"Dataset/users.csv\")\n",
    "data2 = pd.read_csv(\"Dataset/post.csv\")\n",
    "df = data.copy()\n",
    "rep = df.reputation.max()\n",
    "name = np.array(df.displayname[df.reputation == rep])\n",
    "for i in name:\n",
    "    name = i\n",
    "    \n",
    "user_id= np.array(df.userid[df.displayname == name])\n",
    "for i in user_id:\n",
    "    user_id = i\n",
    "    \n",
    "    \n",
    "print(rep,name,user_id)"
   ]
  },
  {
   "cell_type": "code",
   "execution_count": 20,
   "id": "41149d4b",
   "metadata": {},
   "outputs": [
    {
     "data": {
      "text/plain": [
       "35.263352397712275"
      ]
     },
     "execution_count": 20,
     "metadata": {},
     "output_type": "execute_result"
    }
   ],
   "source": [
    "# Find the average age of users on the Stack Overflow site.\n",
    "\n",
    "data = pd.read_csv(\"Dataset/users.csv\")\n",
    "df = data.copy()\n",
    "#df.age.fillna(0.0)\n",
    "df.age.mean(axis=0,skipna = True)\n",
    "\n",
    "\n"
   ]
  },
  {
   "cell_type": "code",
   "execution_count": 33,
   "id": "e72f0c36",
   "metadata": {},
   "outputs": [
    {
     "name": "stdout",
     "output_type": "stream",
     "text": [
      "2008-01-08 00:42:00\n"
     ]
    }
   ],
   "source": [
    "# Find the display name of user who posted the oldest post on Stack Overflow (in terms of date).\n",
    "data1 = pd.read_csv(\"Dataset/users.csv\")\n",
    "data2 = pd.read_csv(\"Dataset/post.csv\")\n",
    "df1 = data1.copy()\n",
    "df2 = data2.copy()\n",
    "#user_name_np = np.array()\n",
    "user_name = pd.DataFrame(df1.displayname)\n",
    "user_name\n",
    "post_date = pd.DataFrame(df2.creationdate)\n",
    "post_date['creationdate'] =post_date['creationdate'].astype('datetime64[ns]')\n",
    "print(post_date.creationdate.min())"
   ]
  },
  {
   "cell_type": "code",
   "execution_count": 36,
   "id": "aa8e7d18",
   "metadata": {},
   "outputs": [
    {
     "data": {
      "text/plain": [
       "array([False, False, False, ..., False, False,  True])"
      ]
     },
     "execution_count": 36,
     "metadata": {},
     "output_type": "execute_result"
    }
   ],
   "source": [
    "# Find the display name and no. of comments done by the user who has got maximum reputation.\n",
    "data1 = pd.read_csv(\"Dataset/users.csv\")\n",
    "data2 = pd.read_csv(\"Dataset/comments.csv\")\n",
    "df = data1.copy()\n",
    "df1 = data2.copy()\n",
    "#max reputation\n",
    "rep = df.reputation.max()\n",
    "# user name\n",
    "name = np.array(df.displayname[df.reputation == rep])\n",
    "for i in name:\n",
    "    name = i\n",
    "#user id\n",
    "user_id= np.array(df.userid[df.displayname == name])\n",
    "for i in user_id:\n",
    "    user_id = i\n",
    "    \n",
    "comm = np.array(df1.userid[ == user_id)\n",
    "comm\n",
    "#print(rep,name,user_id)"
   ]
  }
 ],
 "metadata": {
  "kernelspec": {
   "display_name": "Python 3",
   "language": "python",
   "name": "python3"
  },
  "language_info": {
   "codemirror_mode": {
    "name": "ipython",
    "version": 3
   },
   "file_extension": ".py",
   "mimetype": "text/x-python",
   "name": "python",
   "nbconvert_exporter": "python",
   "pygments_lexer": "ipython3",
   "version": "3.8.10"
  }
 },
 "nbformat": 4,
 "nbformat_minor": 5
}
