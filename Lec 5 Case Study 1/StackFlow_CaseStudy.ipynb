{
 "cells": [
  {
   "cell_type": "markdown",
   "id": "2e96d09d",
   "metadata": {},
   "source": [
    "# StackFlow_CaseStudy"
   ]
  },
  {
   "cell_type": "code",
   "execution_count": 1,
   "id": "ad97d734",
   "metadata": {},
   "outputs": [],
   "source": [
    "import pandas as pd\n",
    "import numpy as np\n",
    "import matplotlib.pyplot as plt\n",
    "import csv"
   ]
  },
  {
   "cell_type": "code",
   "execution_count": 12,
   "id": "8505f902",
   "metadata": {},
   "outputs": [
    {
     "name": "stdout",
     "output_type": "stream",
     "text": [
      "736381 Jon Skeet 22656\n"
     ]
    }
   ],
   "source": [
    "data1 = pd.read_csv(\"Dataset/users.csv\")\n",
    "data2 = pd.read_csv(\"Dataset/post.csv\")\n",
    "df = data.copy()\n",
    "rep = df.reputation.max()\n",
    "name = np.array(df.displayname[df.reputation == rep])\n",
    "for i in name:\n",
    "    name = i\n",
    "    \n",
    "user_id= np.array(df.userid[df.displayname == name])\n",
    "for i in user_id:\n",
    "    user_id = i\n",
    "    \n",
    "    \n",
    "print(rep,name,user_id)"
   ]
  },
  {
   "cell_type": "code",
   "execution_count": 20,
   "id": "63fec87f",
   "metadata": {},
   "outputs": [
    {
     "data": {
      "text/plain": [
       "35.263352397712275"
      ]
     },
     "execution_count": 20,
     "metadata": {},
     "output_type": "execute_result"
    }
   ],
   "source": [
    "data = pd.read_csv(\"Dataset/users.csv\")\n",
    "df = data.copy()\n",
    "#df.age.fillna(0.0)\n",
    "df.age.mean(axis=0,skipna = True)\n",
    "\n",
    "\n"
   ]
  },
  {
   "cell_type": "code",
   "execution_count": 32,
   "id": "759f6a1d",
   "metadata": {},
   "outputs": [
    {
     "name": "stdout",
     "output_type": "stream",
     "text": [
      "2008-01-08 00:42:00\n"
     ]
    }
   ],
   "source": [
    "# Find the display name of user who posted the oldest post on Stack Overflow (in terms of date).\n",
    "data1 = pd.read_csv(\"Dataset/users.csv\")\n",
    "data2 = pd.read_csv(\"Dataset/post.csv\")\n",
    "df1 = data1.copy()\n",
    "df2 = data2.copy()\n",
    "#user_name_np = np.array()\n",
    "user_name = pd.DataFrame(df1.displayname)\n",
    "user_name\n",
    "post_date = pd.DataFrame(df2.creationdate)\n",
    "post_date['creationdate'] =post_date['creationdate'].astype('datetime64[ns]')\n",
    "print(post_date.creationdate.min())"
   ]
  }
 ],
 "metadata": {
  "kernelspec": {
   "display_name": "Python 3",
   "language": "python",
   "name": "python3"
  },
  "language_info": {
   "codemirror_mode": {
    "name": "ipython",
    "version": 3
   },
   "file_extension": ".py",
   "mimetype": "text/x-python",
   "name": "python",
   "nbconvert_exporter": "python",
   "pygments_lexer": "ipython3",
   "version": "3.8.10"
  }
 },
 "nbformat": 4,
 "nbformat_minor": 5
}
