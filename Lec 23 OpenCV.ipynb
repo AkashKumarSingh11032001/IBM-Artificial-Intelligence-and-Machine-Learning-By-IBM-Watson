{
 "cells": [
  {
   "cell_type": "markdown",
   "id": "f8b10877",
   "metadata": {},
   "source": [
    "# Open CV"
   ]
  },
  {
   "cell_type": "code",
   "execution_count": 2,
   "id": "3a48b924",
   "metadata": {},
   "outputs": [],
   "source": [
    "import cv2"
   ]
  },
  {
   "cell_type": "code",
   "execution_count": 3,
   "id": "58485e1b",
   "metadata": {},
   "outputs": [
    {
     "name": "stdout",
     "output_type": "stream",
     "text": [
      "(421, 750, 3)\n",
      "Width pixel values:  421\n",
      "Height pixel values : 750\n",
      "Width pixel values: 3\n"
     ]
    }
   ],
   "source": [
    "\n",
    "img= cv2.imread('snake.png')\n",
    "\n",
    "cv2.imshow('output',img)\n",
    "cv2.waitKey(0) \n",
    "cv2.destroyAllWindows() \n",
    "print(img.shape)\n",
    "\n",
    "print(\"Width pixel values: \", img.shape[0])\n",
    "print(\"Height pixel values :\",  img.shape[1])\n",
    "print(\"Width pixel values:\", img.shape[2])"
   ]
  },
  {
   "cell_type": "code",
   "execution_count": 1,
   "id": "a3df5d20",
   "metadata": {},
   "outputs": [
    {
     "ename": "NameError",
     "evalue": "name 'cv2' is not defined",
     "output_type": "error",
     "traceback": [
      "\u001b[1;31m---------------------------------------------------------------------------\u001b[0m",
      "\u001b[1;31mNameError\u001b[0m                                 Traceback (most recent call last)",
      "\u001b[1;32m<ipython-input-1-fc3e5d6da4bb>\u001b[0m in \u001b[0;36m<module>\u001b[1;34m\u001b[0m\n\u001b[0;32m      1\u001b[0m \u001b[1;31m#Example of converting RGB mage into gray scale:\u001b[0m\u001b[1;33m\u001b[0m\u001b[1;33m\u001b[0m\u001b[1;33m\u001b[0m\u001b[0m\n\u001b[0;32m      2\u001b[0m \u001b[1;33m\u001b[0m\u001b[0m\n\u001b[1;32m----> 3\u001b[1;33m \u001b[0mimg\u001b[0m\u001b[1;33m=\u001b[0m \u001b[0mcv2\u001b[0m\u001b[1;33m.\u001b[0m\u001b[0mimread\u001b[0m\u001b[1;33m(\u001b[0m\u001b[1;34m'snake.png'\u001b[0m\u001b[1;33m)\u001b[0m\u001b[1;33m\u001b[0m\u001b[1;33m\u001b[0m\u001b[0m\n\u001b[0m\u001b[0;32m      4\u001b[0m \u001b[0mprint\u001b[0m\u001b[1;33m(\u001b[0m\u001b[0mimg\u001b[0m\u001b[1;33m.\u001b[0m\u001b[0mshape\u001b[0m\u001b[1;33m)\u001b[0m\u001b[1;33m\u001b[0m\u001b[1;33m\u001b[0m\u001b[0m\n\u001b[0;32m      5\u001b[0m \u001b[1;33m\u001b[0m\u001b[0m\n",
      "\u001b[1;31mNameError\u001b[0m: name 'cv2' is not defined"
     ]
    }
   ],
   "source": [
    "#Example of converting RGB mage into gray scale:\n",
    "\n",
    "img= cv2.imread('snake.png') \n",
    "print(img.shape)\n",
    "\n",
    "cv2.imshow(\"original\",img) \n",
    "cv2.waitKey(8)\n",
    "gray_img= cv2.cvtColor(img, cv2.COLOR_BGR2GRAY)\n",
    "print(gray_img.shape)\n",
    "\n",
    "# for showing image \n",
    "cv2.imshow(\"Grayscale Image\", gray_img)\n",
    "\n",
    "# for holding image\n",
    "cv2.waitKey(8)\n",
    "\n",
    "#clear all windows\n",
    "#cv2.destroyALLwindows()"
   ]
  }
 ],
 "metadata": {
  "kernelspec": {
   "display_name": "Python 3",
   "language": "python",
   "name": "python3"
  },
  "language_info": {
   "codemirror_mode": {
    "name": "ipython",
    "version": 3
   },
   "file_extension": ".py",
   "mimetype": "text/x-python",
   "name": "python",
   "nbconvert_exporter": "python",
   "pygments_lexer": "ipython3",
   "version": "3.8.8"
  }
 },
 "nbformat": 4,
 "nbformat_minor": 5
}
