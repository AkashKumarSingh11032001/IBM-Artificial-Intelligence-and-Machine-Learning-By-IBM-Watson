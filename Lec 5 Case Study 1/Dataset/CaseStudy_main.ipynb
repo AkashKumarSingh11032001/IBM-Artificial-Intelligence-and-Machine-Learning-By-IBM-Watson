{
 "cells": [
  {
   "cell_type": "markdown",
   "id": "2345e006",
   "metadata": {},
   "source": [
    "# Stack OverFlow CaseStudy"
   ]
  },
  {
   "cell_type": "code",
   "execution_count": 1,
   "id": "9e84949c",
   "metadata": {},
   "outputs": [],
   "source": [
    "import pandas as pd"
   ]
  },
  {
   "cell_type": "code",
   "execution_count": 6,
   "id": "04107a97",
   "metadata": {},
   "outputs": [],
   "source": [
    "# question 1: Find the display name and no. of posts created by the user who has got maximum reputation.\n",
    "user_data = pd.read_csv(\"Users.csv\")\n",
    "post_data = pd.read_csv(\"post.csv\")\n",
    "comment_data = pd.read_csv(\"comments.csv\")\n",
    "PostType_data = pd.read_csv(\"posttypes.csv\")"
   ]
  },
  {
   "cell_type": "code",
   "execution_count": null,
   "id": "3142030b",
   "metadata": {},
   "outputs": [],
   "source": []
  }
 ],
 "metadata": {
  "kernelspec": {
   "display_name": "Python 3",
   "language": "python",
   "name": "python3"
  },
  "language_info": {
   "codemirror_mode": {
    "name": "ipython",
    "version": 3
   },
   "file_extension": ".py",
   "mimetype": "text/x-python",
   "name": "python",
   "nbconvert_exporter": "python",
   "pygments_lexer": "ipython3",
   "version": "3.8.10"
  }
 },
 "nbformat": 4,
 "nbformat_minor": 5
}
